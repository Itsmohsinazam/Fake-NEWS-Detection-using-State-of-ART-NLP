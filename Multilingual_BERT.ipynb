{
  "metadata": {
    "kernelspec": {
      "name": "python3",
      "display_name": "Python 3",
      "language": "python"
    },
    "language_info": {
      "name": "python",
      "version": "3.11.13",
      "mimetype": "text/x-python",
      "codemirror_mode": {
        "name": "ipython",
        "version": 3
      },
      "pygments_lexer": "ipython3",
      "nbconvert_exporter": "python",
      "file_extension": ".py"
    },
    "accelerator": "GPU",
    "colab": {
      "gpuType": "T4",
      "provenance": []
    },

"widgets": {
  "state": {
    "3c31c3163f77458ea321121b04762509": {
      "model_module": "@jupyter-widgets/controls",
      "model_name": "HTMLModel",
      "model_module_version": "1.5.0",
      "state": {
        "_dom_classes": [],
        "_model_module": "@jupyter-widgets/controls",
        "_model_module_version": "1.5.0",
        "_model_name": "HTMLModel",
        "_view_count": null,
        "_view_module": "@jupyter-widgets/controls",
        "_view_module_version": "1.5.0",
        "_view_name": "HTMLView",
        "description": "",
        "description_tooltip": null,
        "layout": "IPY_MODEL_20b9157c498741409089e40fd00fa206",
        "placeholder": "​",
        "style": "IPY_MODEL_72ff395b03e243768b78841a1c05f34d",
        "value": "vocab.txt: 100%"
        }
      },
      "1f8114b2c3554f33a461d2dba47cd75d": {
          "model_module": "@jupyter-widgets/controls",
          "model_name": "FloatProgressModel",
          "model_module_version": "1.5.0",
          "state": {
            "_dom_classes": [],
            "_model_module": "@jupyter-widgets/controls",
            "_model_module_version": "1.5.0",
            "_model_name": "FloatProgressModel",
            "_view_count": null,
            "_view_module": "@jupyter-widgets/controls",
            "_view_module_version": "1.5.0",
            "_view_name": "ProgressView",
            "bar_style": "success",
            "description": "",
            "description_tooltip": null,
            "layout": "IPY_MODEL_ae1f9fb262ab4a3bb786d69c380510ee",
            "max": 995526,
            "min": 0,
            "orientation": "horizontal",
            "style": "IPY_MODEL_9c9ec3212a0347ae95bb793baf809c5f",
            "value": 995526
          }
        },
        "a4357229175c492e81b76af4e12bd433": {
          "model_module": "@jupyter-widgets/controls",
          "model_name": "HTMLModel",
          "model_module_version": "1.5.0",
          "state": {
            "_dom_classes": [],
            "_model_module": "@jupyter-widgets/controls",
            "_model_module_version": "1.5.0",
            "_model_name": "HTMLModel",
            "_view_count": null,
            "_view_module": "@jupyter-widgets/controls",
            "_view_module_version": "1.5.0",
            "_view_name": "HTMLView",
            "description": "",
            "description_tooltip": null,
            "layout": "IPY_MODEL_5108cf142c2b47e0a1f84cadc2f85e64",
            "placeholder": "​",
            "style": "IPY_MODEL_2aa03ce966284d438c0b888f1b1a4c5f",
            "value": " 996k/996k [00:00&lt;00:00, 4.39MB/s]"
          }
        },
        "d34ca7c643c5475696492e7e3ce64a77": {
          "model_module": "@jupyter-widgets/base",
          "model_name": "LayoutModel",
          "model_module_version": "1.2.0",
          "state": {
            "_model_module": "@jupyter-widgets/base",
            "_model_module_version": "1.2.0",
            "_model_name": "LayoutModel",
            "_view_count": null,
            "_view_module": "@jupyter-widgets/base",
            "_view_module_version": "1.2.0",
            "_view_name": "LayoutView",
            "align_content": null,
            "align_items": null,
            "align_self": null,
            "border": null,
            "bottom": null,
            "display": null,
            "flex": null,
            "flex_flow": null,
            "grid_area": null,
            "grid_auto_columns": null,
            "grid_auto_flow": null,
            "grid_auto_rows": null,
            "grid_column": null,
            "grid_gap": null,
            "grid_row": null,
            "grid_template_areas": null,
            "grid_template_columns": null,
            "grid_template_rows": null,
            "height": null,
            "justify_content": null,
            "justify_items": null,
            "left": null,
            "margin": null,
            "max_height": null,
            "max_width": null,
            "min_height": null,
            "min_width": null,
            "object_fit": null,
            "object_position": null,
            "order": null,
            "overflow": null,
            "overflow_x": null,
            "overflow_y": null,
            "padding": null,
            "right": null,
            "top": null,
            "visibility": null,
            "width": null
          }
        },
        "20b9157c498741409089e40fd00fa206": {
          "model_module": "@jupyter-widgets/base",
          "model_name": "LayoutModel",
          "model_module_version": "1.2.0",
          "state": {
            "_model_module": "@jupyter-widgets/base",
            "_model_module_version": "1.2.0",
            "_model_name": "LayoutModel",
            "_view_count": null,
            "_view_module": "@jupyter-widgets/base",
            "_view_module_version": "1.2.0",
            "_view_name": "LayoutView",
            "align_content": null,
            "align_items": null,
            "align_self": null,
            "border": null,
            "bottom": null,
            "display": null,
            "flex": null,
            "flex_flow": null,
            "grid_area": null,
            "grid_auto_columns": null,
            "grid_auto_flow": null,
            "grid_auto_rows": null,
            "grid_column": null,
            "grid_gap": null,
            "grid_row": null,
            "grid_template_areas": null,
            "grid_template_columns": null,
            "grid_template_rows": null,
            "height": null,
            "justify_content": null,
            "justify_items": null,
            "left": null,
            "margin": null,
            "max_height": null,
            "max_width": null,
            "min_height": null,
            "min_width": null,
            "object_fit": null,
            "object_position": null,
            "order": null,
            "overflow": null,
            "overflow_x": null,
            "overflow_y": null,
            "padding": null,
            "right": null,
            "top": null,
            "visibility": null,
            "width": null
          }
        },
        "72ff395b03e243768b78841a1c05f34d": {
          "model_module": "@jupyter-widgets/controls",
          "model_name": "DescriptionStyleModel",
          "model_module_version": "1.5.0",
          "state": {
            "_model_module": "@jupyter-widgets/controls",
            "_model_module_version": "1.5.0",
            "_model_name": "DescriptionStyleModel",
            "_view_count": null,
            "_view_module": "@jupyter-widgets/base",
            "_view_module_version": "1.2.0",
            "_view_name": "StyleView",
            "description_width": ""
          }
        },
        "ae1f9fb262ab4a3bb786d69c380510ee": {
          "model_module": "@jupyter-widgets/base",
          "model_name": "LayoutModel",
          "model_module_version": "1.2.0",
          "state": {
            "_model_module": "@jupyter-widgets/base",
            "_model_module_version": "1.2.0",
            "_model_name": "LayoutModel",
            "_view_count": null,
            "_view_module": "@jupyter-widgets/base",
            "_view_module_version": "1.2.0",
            "_view_name": "LayoutView",
            "align_content": null,
            "align_items": null,
            "align_self": null,
            "border": null,
            "bottom": null,
            "display": null,
            "flex": null,
            "flex_flow": null,
            "grid_area": null,
            "grid_auto_columns": null,
            "grid_auto_flow": null,
            "grid_auto_rows": null,
            "grid_column": null,
            "grid_gap": null,
            "grid_row": null,
            "grid_template_areas": null,
            "grid_template_columns": null,
            "grid_template_rows": null,
            "height": null,
            "justify_content": null,
            "justify_items": null,
            "left": null,
            "margin": null,
            "max_height": null,
            "max_width": null,
            "min_height": null,
            "min_width": null,
            "object_fit": null,
            "object_position": null,
            "order": null,
            "overflow": null,
            "overflow_x": null,
            "overflow_y": null,
            "padding": null,
            "right": null,
            "top": null,
            "visibility": null,
            "width": null
          }
        },
        "9c9ec3212a0347ae95bb793baf809c5f": {
          "model_module": "@jupyter-widgets/controls",
          "model_name": "ProgressStyleModel",
          "model_module_version": "1.5.0",
          "state": {
            "_model_module": "@jupyter-widgets/controls",
            "_model_module_version": "1.5.0",
            "_model_name": "ProgressStyleModel",
            "_view_count": null,
            "_view_module": "@jupyter-widgets/base",
            "_view_module_version": "1.2.0",
            "_view_name": "StyleView",
            "bar_color": null,
            "description_width": ""
          }
        },
        "5108cf142c2b47e0a1f84cadc2f85e64": {
          "model_module": "@jupyter-widgets/base",
          "model_name": "LayoutModel",
          "model_module_version": "1.2.0",
          "state": {
            "_model_module": "@jupyter-widgets/base",
            "_model_module_version": "1.2.0",
            "_model_name": "LayoutModel",
            "_view_count": null,
            "_view_module": "@jupyter-widgets/base",
            "_view_module_version": "1.2.0",
            "_view_name": "LayoutView",
            "align_content": null,
            "align_items": null,
            "align_self": null,
            "border": null,
            "bottom": null,
            "display": null,
            "flex": null,
            "flex_flow": null,
            "grid_area": null,
            "grid_auto_columns": null,
            "grid_auto_flow": null,
            "grid_auto_rows": null,
            "grid_column": null,
            "grid_gap": null,
            "grid_row": null,
            "grid_template_areas": null,
            "grid_template_columns": null,
            "grid_template_rows": null,
            "height": null,
            "justify_content": null,
            "justify_items": null,
            "left": null,
            "margin": null,
            "max_height": null,
            "max_width": null,
            "min_height": null,
            "min_width": null,
            "object_fit": null,
            "object_position": null,
            "order": null,
            "overflow": null,
            "overflow_x": null,
            "overflow_y": null,
            "padding": null,
            "right": null,
            "top": null,
            "visibility": null,
            "width": null
          }
        },
        "2aa03ce966284d438c0b888f1b1a4c5f": {
          "model_module": "@jupyter-widgets/controls",
          "model_name": "DescriptionStyleModel",
          "model_module_version": "1.5.0",
          "state": {
            "_model_module": "@jupyter-widgets/controls",
            "_model_module_version": "1.5.0",
            "_model_name": "DescriptionStyleModel",
            "_view_count": null,
            "_view_module": "@jupyter-widgets/base",
            "_view_module_version": "1.2.0",
            "_view_name": "StyleView",
            "description_width": ""
          }
        },
        "e800fb2258264f69b9f1882722e71ad8": {
          "model_module": "@jupyter-widgets/controls",
          "model_name": "HBoxModel",
          "model_module_version": "1.5.0",
          "state": {
            "_dom_classes": [],
            "_model_module": "@jupyter-widgets/controls",
            "_model_module_version": "1.5.0",
            "_model_name": "HBoxModel",
            "_view_count": null,
            "_view_module": "@jupyter-widgets/controls",
            "_view_module_version": "1.5.0",
            "_view_name": "HBoxView",
            "box_style": "",
            "children": [
              "IPY_MODEL_564b74b791a74f7180177c89ab1c0eac",
              "IPY_MODEL_5c0d8ff24d434fed8c642066ed3e5a1e",
              "IPY_MODEL_4cd2ceff02d84b768fcb592e85e62624"
            ],
            "layout": "IPY_MODEL_06d0b224b2374d6eb4f3e2767edfa7f7"
          }
        },
        "564b74b791a74f7180177c89ab1c0eac": {
          "model_module": "@jupyter-widgets/controls",
          "model_name": "HTMLModel",
          "model_module_version": "1.5.0",
          "state": {
            "_dom_classes": [],
            "_model_module": "@jupyter-widgets/controls",
            "_model_module_version": "1.5.0",
            "_model_name": "HTMLModel",
            "_view_count": null,
            "_view_module": "@jupyter-widgets/controls",
            "_view_module_version": "1.5.0",
            "_view_name": "HTMLView",
            "description": "",
            "description_tooltip": null,
            "layout": "IPY_MODEL_d2e883c5f4b34947a2a5b21ef95390ac",
            "placeholder": "​",
            "style": "IPY_MODEL_33a3a55153c44363a28c722e5acc60a8",
            "value": "tokenizer_config.json: 100%"
          }
        },
        "5c0d8ff24d434fed8c642066ed3e5a1e": {
          "model_module": "@jupyter-widgets/controls",
          "model_name": "FloatProgressModel",
          "model_module_version": "1.5.0",
          "state": {
            "_dom_classes": [],
            "_model_module": "@jupyter-widgets/controls",
            "_model_module_version": "1.5.0",
            "_model_name": "FloatProgressModel",
            "_view_count": null,
            "_view_module": "@jupyter-widgets/controls",
            "_view_module_version": "1.5.0",
            "_view_name": "ProgressView",
            "bar_style": "success",
            "description": "",
            "description_tooltip": null,
            "layout": "IPY_MODEL_770fb9989e334745acb933e253b3f65c",
            "max": 49,
            "min": 0,
            "orientation": "horizontal",
            "style": "IPY_MODEL_5378da1e821a4cf489300e827acd0632",
            "value": 49
          }
        },
        "4cd2ceff02d84b768fcb592e85e62624": {
          "model_module": "@jupyter-widgets/controls",
          "model_name": "HTMLModel",
          "model_module_version": "1.5.0",
          "state": {
            "_dom_classes": [],
            "_model_module": "@jupyter-widgets/controls",
            "_model_module_version": "1.5.0",
            "_model_name": "HTMLModel",
            "_view_count": null,
            "_view_module": "@jupyter-widgets/controls",
            "_view_module_version": "1.5.0",
            "_view_name": "HTMLView",
            "description": "",
            "description_tooltip": null,
            "layout": "IPY_MODEL_76468d1f646c4e1697c2dab34752e833",
            "placeholder": "​",
            "style": "IPY_MODEL_9ed027b426014de69827a4c9b11f1ce2",
            "value": " 49.0/49.0 [00:00&lt;00:00, 5.20kB/s]"
          }
        },
        "06d0b224b2374d6eb4f3e2767edfa7f7": {
          "model_module": "@jupyter-widgets/base",
          "model_name": "LayoutModel",
          "model_module_version": "1.2.0",
          "state": {
            "_model_module": "@jupyter-widgets/base",
            "_model_module_version": "1.2.0",
            "_model_name": "LayoutModel",
            "_view_count": null,
            "_view_module": "@jupyter-widgets/base",
            "_view_module_version": "1.2.0",
            "_view_name": "LayoutView",
            "align_content": null,
            "align_items": null,
            "align_self": null,
            "border": null,
            "bottom": null,
            "display": null,
            "flex": null,
            "flex_flow": null,
            "grid_area": null,
            "grid_auto_columns": null,
            "grid_auto_flow": null,
            "grid_auto_rows": null,
            "grid_column": null,
            "grid_gap": null,
            "grid_row": null,
            "grid_template_areas": null,
            "grid_template_columns": null,
            "grid_template_rows": null,
            "height": null,
            "justify_content": null,
            "justify_items": null,
            "left": null,
            "margin": null,
            "max_height": null,
            "max_width": null,
            "min_height": null,
            "min_width": null,
            "object_fit": null,
            "object_position": null,
            "order": null,
            "overflow": null,
            "overflow_x": null,
            "overflow_y": null,
            "padding": null,
            "right": null,
            "top": null,
            "visibility": null,
            "width": null
          }
        },
        "d2e883c5f4b34947a2a5b21ef95390ac": {
          "model_module": "@jupyter-widgets/base",
          "model_name": "LayoutModel",
          "model_module_version": "1.2.0",
          "state": {
            "_model_module": "@jupyter-widgets/base",
            "_model_module_version": "1.2.0",
            "_model_name": "LayoutModel",
            "_view_count": null,
            "_view_module": "@jupyter-widgets/base",
            "_view_module_version": "1.2.0",
            "_view_name": "LayoutView",
            "align_content": null,
            "align_items": null,
            "align_self": null,
            "border": null,
            "bottom": null,
            "display": null,
            "flex": null,
            "flex_flow": null,
            "grid_area": null,
            "grid_auto_columns": null,
            "grid_auto_flow": null,
            "grid_auto_rows": null,
            "grid_column": null,
            "grid_gap": null,
            "grid_row": null,
            "grid_template_areas": null,
            "grid_template_columns": null,
            "grid_template_rows": null,
            "height": null,
            "justify_content": null,
            "justify_items": null,
            "left": null,
            "margin": null,
            "max_height": null,
            "max_width": null,
            "min_height": null,
            "min_width": null,
            "object_fit": null,
            "object_position": null,
            "order": null,
            "overflow": null,
            "overflow_x": null,
            "overflow_y": null,
            "padding": null,
            "right": null,
            "top": null,
            "visibility": null,
            "width": null
          }
        },
        "33a3a55153c44363a28c722e5acc60a8": {
          "model_module": "@jupyter-widgets/controls",
          "model_name": "DescriptionStyleModel",
          "model_module_version": "1.5.0",
          "state": {
            "_model_module": "@jupyter-widgets/controls",
            "_model_module_version": "1.5.0",
            "_model_name": "DescriptionStyleModel",
            "_view_count": null,
            "_view_module": "@jupyter-widgets/base",
            "_view_module_version": "1.2.0",
            "_view_name": "StyleView",
            "description_width": ""
          }
        },
        "770fb9989e334745acb933e253b3f65c": {
          "model_module": "@jupyter-widgets/base",
          "model_name": "LayoutModel",
          "model_module_version": "1.2.0",
          "state": {
            "_model_module": "@jupyter-widgets/base",
            "_model_module_version": "1.2.0",
            "_model_name": "LayoutModel",
            "_view_count": null,
            "_view_module": "@jupyter-widgets/base",
            "_view_module_version": "1.2.0",
            "_view_name": "LayoutView",
            "align_content": null,
            "align_items": null,
            "align_self": null,
            "border": null,
            "bottom": null,
            "display": null,
            "flex": null,
            "flex_flow": null,
            "grid_area": null,
            "grid_auto_columns": null,
            "grid_auto_flow": null,
            "grid_auto_rows": null,
            "grid_column": null,
            "grid_gap": null,
            "grid_row": null,
            "grid_template_areas": null,
            "grid_template_columns": null,
            "grid_template_rows": null,
            "height": null,
            "justify_content": null,
            "justify_items": null,
            "left": null,
            "margin": null,
            "max_height": null,
            "max_width": null,
            "min_height": null,
            "min_width": null,
            "object_fit": null,
            "object_position": null,
            "order": null,
            "overflow": null,
            "overflow_x": null,
            "overflow_y": null,
            "padding": null,
            "right": null,
            "top": null,
            "visibility": null,
            "width": null
          }
        },
        "5378da1e821a4cf489300e827acd0632": {
          "model_module": "@jupyter-widgets/controls",
          "model_name": "ProgressStyleModel",
          "model_module_version": "1.5.0",
          "state": {
            "_model_module": "@jupyter-widgets/controls",
            "_model_module_version": "1.5.0",
            "_model_name": "ProgressStyleModel",
            "_view_count": null,
            "_view_module": "@jupyter-widgets/base",
            "_view_module_version": "1.2.0",
            "_view_name": "StyleView",
            "bar_color": null,
            "description_width": ""
          }
        },
        "76468d1f646c4e1697c2dab34752e833": {
          "model_module": "@jupyter-widgets/base",
          "model_name": "LayoutModel",
          "model_module_version": "1.2.0",
          "state": {
            "_model_module": "@jupyter-widgets/base",
            "_model_module_version": "1.2.0",
            "_model_name": "LayoutModel",
            "_view_count": null,
            "_view_module": "@jupyter-widgets/base",
            "_view_module_version": "1.2.0",
            "_view_name": "LayoutView",
            "align_content": null,
            "align_items": null,
            "align_self": null,
            "border": null,
            "bottom": null,
            "display": null,
            "flex": null,
            "flex_flow": null,
            "grid_area": null,
            "grid_auto_columns": null,
            "grid_auto_flow": null,
            "grid_auto_rows": null,
            "grid_column": null,
            "grid_gap": null,
            "grid_row": null,
            "grid_template_areas": null,
            "grid_template_columns": null,
            "grid_template_rows": null,
            "height": null,
            "justify_content": null,
            "justify_items": null,
            "left": null,
            "margin": null,
            "max_height": null,
            "max_width": null,
            "min_height": null,
            "min_width": null,
            "object_fit": null,
            "object_position": null,
            "order": null,
            "overflow": null,
            "overflow_x": null,
            "overflow_y": null,
            "padding": null,
            "right": null,
            "top": null,
            "visibility": null,
            "width": null
          }
        },
        "9ed027b426014de69827a4c9b11f1ce2": {
          "model_module": "@jupyter-widgets/controls",
          "model_name": "DescriptionStyleModel",
          "model_module_version": "1.5.0",
          "state": {
            "_model_module": "@jupyter-widgets/controls",
            "_model_module_version": "1.5.0",
            "_model_name": "DescriptionStyleModel",
            "_view_count": null,
            "_view_module": "@jupyter-widgets/base",
            "_view_module_version": "1.2.0",
            "_view_name": "StyleView",
            "description_width": ""
          }
        },
        "285578e5f7e94e2287977a8bdad1d984": {
          "model_module": "@jupyter-widgets/controls",
          "model_name": "HBoxModel",
          "model_module_version": "1.5.0",
          "state": {
            "_dom_classes": [],
            "_model_module": "@jupyter-widgets/controls",
            "_model_module_version": "1.5.0",
            "_model_name": "HBoxModel",
            "_view_count": null,
            "_view_module": "@jupyter-widgets/controls",
            "_view_module_version": "1.5.0",
            "_view_name": "HBoxView",
            "box_style": "",
            "children": [
              "IPY_MODEL_7f6ab92ff7874143ac7e9827f4e58934",
              "IPY_MODEL_6c4291a733fe48929dae6d23340b31f1",
              "IPY_MODEL_b9155a46a2714ffcb2220cb7195a5235"
            ],
            "layout": "IPY_MODEL_c794c95703c64209933b60922aad55ca"
          }
        },
        "7f6ab92ff7874143ac7e9827f4e58934": {
          "model_module": "@jupyter-widgets/controls",
          "model_name": "HTMLModel",
          "model_module_version": "1.5.0",
          "state": {
            "_dom_classes": [],
            "_model_module": "@jupyter-widgets/controls",
            "_model_module_version": "1.5.0",
            "_model_name": "HTMLModel",
            "_view_count": null,
            "_view_module": "@jupyter-widgets/controls",
            "_view_module_version": "1.5.0",
            "_view_name": "HTMLView",
            "description": "",
            "description_tooltip": null,
            "layout": "IPY_MODEL_fb65027b57df4e9582839e0ee89ad130",
            "placeholder": "​",
            "style": "IPY_MODEL_01358a967a844900a80aa6f4b4972642",
            "value": "config.json: 100%"
          }
        },
        "6c4291a733fe48929dae6d23340b31f1": {
          "model_module": "@jupyter-widgets/controls",
          "model_name": "FloatProgressModel",
          "model_module_version": "1.5.0",
          "state": {
            "_dom_classes": [],
            "_model_module": "@jupyter-widgets/controls",
            "_model_module_version": "1.5.0",
            "_model_name": "FloatProgressModel",
            "_view_count": null,
            "_view_module": "@jupyter-widgets/controls",
            "_view_module_version": "1.5.0",
            "_view_name": "ProgressView",
            "bar_style": "success",
            "description": "",
            "description_tooltip": null,
            "layout": "IPY_MODEL_2c6f776ea4ce4d2099849cfefee650b6",
            "max": 625,
            "min": 0,
            "orientation": "horizontal",
            "style": "IPY_MODEL_9a5ffa2c20534328b39c890169a7daad",
            "value": 625
          }
        },
        "b9155a46a2714ffcb2220cb7195a5235": {
          "model_module": "@jupyter-widgets/controls",
          "model_name": "HTMLModel",
          "model_module_version": "1.5.0",
          "state": {
            "_dom_classes": [],
            "_model_module": "@jupyter-widgets/controls",
            "_model_module_version": "1.5.0",
            "_model_name": "HTMLModel",
            "_view_count": null,
            "_view_module": "@jupyter-widgets/controls",
            "_view_module_version": "1.5.0",
            "_view_name": "HTMLView",
            "description": "",
            "description_tooltip": null,
            "layout": "IPY_MODEL_cb4ea191ca334cb9a74a4606e8efacad",
            "placeholder": "​",
            "style": "IPY_MODEL_4e6d6c59da2d4488b92ffd47021227a5",
            "value": " 625/625 [00:00&lt;00:00, 47.4kB/s]"
          }
        },
        "c794c95703c64209933b60922aad55ca": {
          "model_module": "@jupyter-widgets/base",
          "model_name": "LayoutModel",
          "model_module_version": "1.2.0",
          "state": {
            "_model_module": "@jupyter-widgets/base",
            "_model_module_version": "1.2.0",
            "_model_name": "LayoutModel",
            "_view_count": null,
            "_view_module": "@jupyter-widgets/base",
            "_view_module_version": "1.2.0",
            "_view_name": "LayoutView",
            "align_content": null,
            "align_items": null,
            "align_self": null,
            "border": null,
            "bottom": null,
            "display": null,
            "flex": null,
            "flex_flow": null,
            "grid_area": null,
            "grid_auto_columns": null,
            "grid_auto_flow": null,
            "grid_auto_rows": null,
            "grid_column": null,
            "grid_gap": null,
            "grid_row": null,
            "grid_template_areas": null,
            "grid_template_columns": null,
            "grid_template_rows": null,
            "height": null,
            "justify_content": null,
            "justify_items": null,
            "left": null,
            "margin": null,
            "max_height": null,
            "max_width": null,
            "min_height": null,
            "min_width": null,
            "object_fit": null,
            "object_position": null,
            "order": null,
            "overflow": null,
            "overflow_x": null,
            "overflow_y": null,
            "padding": null,
            "right": null,
            "top": null,
            "visibility": null,
            "width": null
          }
        },
        "fb65027b57df4e9582839e0ee89ad130": {
          "model_module": "@jupyter-widgets/base",
          "model_name": "LayoutModel",
          "model_module_version": "1.2.0",
          "state": {
            "_model_module": "@jupyter-widgets/base",
            "_model_module_version": "1.2.0",
            "_model_name": "LayoutModel",
            "_view_count": null,
            "_view_module": "@jupyter-widgets/base",
            "_view_module_version": "1.2.0",
            "_view_name": "LayoutView",
            "align_content": null,
            "align_items": null,
            "align_self": null,
            "border": null,
            "bottom": null,
            "display": null,
            "flex": null,
            "flex_flow": null,
            "grid_area": null,
            "grid_auto_columns": null,
            "grid_auto_flow": null,
            "grid_auto_rows": null,
            "grid_column": null,
            "grid_gap": null,
            "grid_row": null,
            "grid_template_areas": null,
            "grid_template_columns": null,
            "grid_template_rows": null,
            "height": null,
            "justify_content": null,
            "justify_items": null,
            "left": null,
            "margin": null,
            "max_height": null,
            "max_width": null,
            "min_height": null,
            "min_width": null,
            "object_fit": null,
            "object_position": null,
            "order": null,
            "overflow": null,
            "overflow_x": null,
            "overflow_y": null,
            "padding": null,
            "right": null,
            "top": null,
            "visibility": null,
            "width": null
          }
        },
        "01358a967a844900a80aa6f4b4972642": {
          "model_module": "@jupyter-widgets/controls",
          "model_name": "DescriptionStyleModel",
          "model_module_version": "1.5.0",
          "state": {
            "_model_module": "@jupyter-widgets/controls",
            "_model_module_version": "1.5.0",
            "_model_name": "DescriptionStyleModel",
            "_view_count": null,
            "_view_module": "@jupyter-widgets/base",
            "_view_module_version": "1.2.0",
            "_view_name": "StyleView",
            "description_width": ""
          }
        },
        "2c6f776ea4ce4d2099849cfefee650b6": {
          "model_module": "@jupyter-widgets/base",
          "model_name": "LayoutModel",
          "model_module_version": "1.2.0",
          "state": {
            "_model_module": "@jupyter-widgets/base",
            "_model_module_version": "1.2.0",
            "_model_name": "LayoutModel",
            "_view_count": null,
            "_view_module": "@jupyter-widgets/base",
            "_view_module_version": "1.2.0",
            "_view_name": "LayoutView",
            "align_content": null,
            "align_items": null,
            "align_self": null,
            "border": null,
            "bottom": null,
            "display": null,
            "flex": null,
            "flex_flow": null,
            "grid_area": null,
            "grid_auto_columns": null,
            "grid_auto_flow": null,
            "grid_auto_rows": null,
            "grid_column": null,
            "grid_gap": null,
            "grid_row": null,
            "grid_template_areas": null,
            "grid_template_columns": null,
            "grid_template_rows": null,
            "height": null,
            "justify_content": null,
            "justify_items": null,
            "left": null,
            "margin": null,
            "max_height": null,
            "max_width": null,
            "min_height": null,
            "min_width": null,
            "object_fit": null,
            "object_position": null,
            "order": null,
            "overflow": null,
            "overflow_x": null,
            "overflow_y": null,
            "padding": null,
            "right": null,
            "top": null,
            "visibility": null,
            "width": null
          }
        },
        "9a5ffa2c20534328b39c890169a7daad": {
          "model_module": "@jupyter-widgets/controls",
          "model_name": "ProgressStyleModel",
          "model_module_version": "1.5.0",
          "state": {
            "_model_module": "@jupyter-widgets/controls",
            "_model_module_version": "1.5.0",
            "_model_name": "ProgressStyleModel",
            "_view_count": null,
            "_view_module": "@jupyter-widgets/base",
            "_view_module_version": "1.2.0",
            "_view_name": "StyleView",
            "bar_color": null,
            "description_width": ""
          }
        },
        "cb4ea191ca334cb9a74a4606e8efacad": {
          "model_module": "@jupyter-widgets/base",
          "model_name": "LayoutModel",
          "model_module_version": "1.2.0",
          "state": {
            "_model_module": "@jupyter-widgets/base",
            "_model_module_version": "1.2.0",
            "_model_name": "LayoutModel",
            "_view_count": null,
            "_view_module": "@jupyter-widgets/base",
            "_view_module_version": "1.2.0",
            "_view_name": "LayoutView",
            "align_content": null,
            "align_items": null,
            "align_self": null,
            "border": null,
            "bottom": null,
            "display": null,
            "flex": null,
            "flex_flow": null,
            "grid_area": null,
            "grid_auto_columns": null,
            "grid_auto_flow": null,
            "grid_auto_rows": null,
            "grid_column": null,
            "grid_gap": null,
            "grid_row": null,
            "grid_template_areas": null,
            "grid_template_columns": null,
            "grid_template_rows": null,
            "height": null,
            "justify_content": null,
            "justify_items": null,
            "left": null,
            "margin": null,
            "max_height": null,
            "max_width": null,
            "min_height": null,
            "min_width": null,
            "object_fit": null,
            "object_position": null,
            "order": null,
            "overflow": null,
            "overflow_x": null,
            "overflow_y": null,
            "padding": null,
            "right": null,
            "top": null,
            "visibility": null,
            "width": null
          }
        },
        "4e6d6c59da2d4488b92ffd47021227a5": {
          "model_module": "@jupyter-widgets/controls",
          "model_name": "DescriptionStyleModel",
          "model_module_version": "1.5.0",
          "state": {
            "_model_module": "@jupyter-widgets/controls",
            "_model_module_version": "1.5.0",
            "_model_name": "DescriptionStyleModel",
            "_view_count": null,
            "_view_module": "@jupyter-widgets/base",
            "_view_module_version": "1.2.0",
            "_view_name": "StyleView",
            "description_width": ""
          }
        },
        "36e0e5359830481db8d9260d1de6ec1d": {
          "model_module": "@jupyter-widgets/controls",
          "model_name": "HBoxModel",
          "model_module_version": "1.5.0",
          "state": {
            "_dom_classes": [],
            "_model_module": "@jupyter-widgets/controls",
            "_model_module_version": "1.5.0",
            "_model_name": "HBoxModel",
            "_view_count": null,
            "_view_module": "@jupyter-widgets/controls",
            "_view_module_version": "1.5.0",
            "_view_name": "HBoxView",
            "box_style": "",
            "children": [
              "IPY_MODEL_225bed6651a54a3f94d32175dcc265fa",
              "IPY_MODEL_ca5410e42e7d4d439ff37233bcc85a40",
              "IPY_MODEL_a1d487b8c4f24bfaac4d89d1426bdf1b"
            ],
            "layout": "IPY_MODEL_b17e826efa884855b0cd39ad7dffe6cd"
          }
        },
        "225bed6651a54a3f94d32175dcc265fa": {
          "model_module": "@jupyter-widgets/controls",
          "model_name": "HTMLModel",
          "model_module_version": "1.5.0",
          "state": {
            "_dom_classes": [],
            "_model_module": "@jupyter-widgets/controls",
            "_model_module_version": "1.5.0",
            "_model_name": "HTMLModel",
            "_view_count": null,
            "_view_module": "@jupyter-widgets/controls",
            "_view_module_version": "1.5.0",
            "_view_name": "HTMLView",
            "description": "",
            "description_tooltip": null,
            "layout": "IPY_MODEL_2c23da99214f454f8676e5ca17bea9e9",
            "placeholder": "​",
            "style": "IPY_MODEL_d135c23e82bc444f9e8d7973108467dc",
            "value": "Map: 100%"
          }
        },
        "ca5410e42e7d4d439ff37233bcc85a40": {
          "model_module": "@jupyter-widgets/controls",
          "model_name": "FloatProgressModel",
          "model_module_version": "1.5.0",
          "state": {
            "_dom_classes": [],
            "_model_module": "@jupyter-widgets/controls",
            "_model_module_version": "1.5.0",
            "_model_name": "FloatProgressModel",
            "_view_count": null,
            "_view_module": "@jupyter-widgets/controls",
            "_view_module_version": "1.5.0",
            "_view_name": "ProgressView",
            "bar_style": "",
            "description": "",
            "description_tooltip": null,
            "layout": "IPY_MODEL_aeb37c9d834747df8a34120596def99d",
            "max": 35918,
            "min": 0,
            "orientation": "horizontal",
            "style": "IPY_MODEL_b18c0cf8df384ca1b1807b6a1c5c82b0",
            "value": 35918
          }
        },
        "a1d487b8c4f24bfaac4d89d1426bdf1b": {
          "model_module": "@jupyter-widgets/controls",
          "model_name": "HTMLModel",
          "model_module_version": "1.5.0",
          "state": {
            "_dom_classes": [],
            "_model_module": "@jupyter-widgets/controls",
            "_model_module_version": "1.5.0",
            "_model_name": "HTMLModel",
            "_view_count": null,
            "_view_module": "@jupyter-widgets/controls",
            "_view_module_version": "1.5.0",
            "_view_name": "HTMLView",
            "description": "",
            "description_tooltip": null,
            "layout": "IPY_MODEL_c6f9f9ef02bb47d7a0190630583ef57a",
            "placeholder": "​",
            "style": "IPY_MODEL_92e4616bbc8b49119043ddb0716ab3ff",
            "value": " 35918/35918 [03:02&lt;00:00, 190.67 examples/s]"
          }
        },
        "b17e826efa884855b0cd39ad7dffe6cd": {
          "model_module": "@jupyter-widgets/base",
          "model_name": "LayoutModel",
          "model_module_version": "1.2.0",
          "state": {
            "_model_module": "@jupyter-widgets/base",
            "_model_module_version": "1.2.0",
            "_model_name": "LayoutModel",
            "_view_count": null,
            "_view_module": "@jupyter-widgets/base",
            "_view_module_version": "1.2.0",
            "_view_name": "LayoutView",
            "align_content": null,
            "align_items": null,
            "align_self": null,
            "border": null,
            "bottom": null,
            "display": null,
            "flex": null,
            "flex_flow": null,
            "grid_area": null,
            "grid_auto_columns": null,
            "grid_auto_flow": null,
            "grid_auto_rows": null,
            "grid_column": null,
            "grid_gap": null,
            "grid_row": null,
            "grid_template_areas": null,
            "grid_template_columns": null,
            "grid_template_rows": null,
            "height": null,
            "justify_content": null,
            "justify_items": null,
            "left": null,
            "margin": null,
            "max_height": null,
            "max_width": null,
            "min_height": null,
            "min_width": null,
            "object_fit": null,
            "object_position": null,
            "order": null,
            "overflow": null,
            "overflow_x": null,
            "overflow_y": null,
            "padding": null,
            "right": null,
            "top": null,
            "visibility": "hidden",
            "width": null
          }
        },
        "2c23da99214f454f8676e5ca17bea9e9": {
          "model_module": "@jupyter-widgets/base",
          "model_name": "LayoutModel",
          "model_module_version": "1.2.0",
          "state": {
            "_model_module": "@jupyter-widgets/base",
            "_model_module_version": "1.2.0",
            "_model_name": "LayoutModel",
            "_view_count": null,
            "_view_module": "@jupyter-widgets/base",
            "_view_module_version": "1.2.0",
            "_view_name": "LayoutView",
            "align_content": null,
            "align_items": null,
            "align_self": null,
            "border": null,
            "bottom": null,
            "display": null,
            "flex": null,
            "flex_flow": null,
            "grid_area": null,
            "grid_auto_columns": null,
            "grid_auto_flow": null,
            "grid_auto_rows": null,
            "grid_column": null,
            "grid_gap": null,
            "grid_row": null,
            "grid_template_areas": null,
            "grid_template_columns": null,
            "grid_template_rows": null,
            "height": null,
            "justify_content": null,
            "justify_items": null,
            "left": null,
            "margin": null,
            "max_height": null,
            "max_width": null,
            "min_height": null,
            "min_width": null,
            "object_fit": null,
            "object_position": null,
            "order": null,
            "overflow": null,
            "overflow_x": null,
            "overflow_y": null,
            "padding": null,
            "right": null,
            "top": null,
            "visibility": null,
            "width": null
          }
        },
        "d135c23e82bc444f9e8d7973108467dc": {
          "model_module": "@jupyter-widgets/controls",
          "model_name": "DescriptionStyleModel",
          "model_module_version": "1.5.0",
          "state": {
            "_model_module": "@jupyter-widgets/controls",
            "_model_module_version": "1.5.0",
            "_model_name": "DescriptionStyleModel",
            "_view_count": null,
            "_view_module": "@jupyter-widgets/base",
            "_view_module_version": "1.2.0",
            "_view_name": "StyleView",
            "description_width": ""
          }
        },
        "aeb37c9d834747df8a34120596def99d": {
          "model_module": "@jupyter-widgets/base",
          "model_name": "LayoutModel",
          "model_module_version": "1.2.0",
          "state": {
            "_model_module": "@jupyter-widgets/base",
            "_model_module_version": "1.2.0",
            "_model_name": "LayoutModel",
            "_view_count": null,
            "_view_module": "@jupyter-widgets/base",
            "_view_module_version": "1.2.0",
            "_view_name": "LayoutView",
            "align_content": null,
            "align_items": null,
            "align_self": null,
            "border": null,
            "bottom": null,
            "display": null,
            "flex": null,
            "flex_flow": null,
            "grid_area": null,
            "grid_auto_columns": null,
            "grid_auto_flow": null,
            "grid_auto_rows": null,
            "grid_column": null,
            "grid_gap": null,
            "grid_row": null,
            "grid_template_areas": null,
            "grid_template_columns": null,
            "grid_template_rows": null,
            "height": null,
            "justify_content": null,
            "justify_items": null,
            "left": null,
            "margin": null,
            "max_height": null,
            "max_width": null,
            "min_height": null,
            "min_width": null,
            "object_fit": null,
            "object_position": null,
            "order": null,
            "overflow": null,
            "overflow_x": null,
            "overflow_y": null,
            "padding": null,
            "right": null,
            "top": null,
            "visibility": null,
            "width": null
          }
        },
        "b18c0cf8df384ca1b1807b6a1c5c82b0": {
          "model_module": "@jupyter-widgets/controls",
          "model_name": "ProgressStyleModel",
          "model_module_version": "1.5.0",
          "state": {
            "_model_module": "@jupyter-widgets/controls",
            "_model_module_version": "1.5.0",
            "_model_name": "ProgressStyleModel",
            "_view_count": null,
            "_view_module": "@jupyter-widgets/base",
            "_view_module_version": "1.2.0",
            "_view_name": "StyleView",
            "bar_color": null,
            "description_width": ""
          }
        },
        "c6f9f9ef02bb47d7a0190630583ef57a": {
          "model_module": "@jupyter-widgets/base",
          "model_name": "LayoutModel",
          "model_module_version": "1.2.0",
          "state": {
            "_model_module": "@jupyter-widgets/base",
            "_model_module_version": "1.2.0",
            "_model_name": "LayoutModel",
            "_view_count": null,
            "_view_module": "@jupyter-widgets/base",
            "_view_module_version": "1.2.0",
            "_view_name": "LayoutView",
            "align_content": null,
            "align_items": null,
            "align_self": null,
            "border": null,
            "bottom": null,
            "display": null,
            "flex": null,
            "flex_flow": null,
            "grid_area": null,
            "grid_auto_columns": null,
            "grid_auto_flow": null,
            "grid_auto_rows": null,
            "grid_column": null,
            "grid_gap": null,
            "grid_row": null,
            "grid_template_areas": null,
            "grid_template_columns": null,
            "grid_template_rows": null,
            "height": null,
            "justify_content": null,
            "justify_items": null,
            "left": null,
            "margin": null,
            "max_height": null,
            "max_width": null,
            "min_height": null,
            "min_width": null,
            "object_fit": null,
            "object_position": null,
            "order": null,
            "overflow": null,
            "overflow_x": null,
            "overflow_y": null,
            "padding": null,
            "right": null,
            "top": null,
            "visibility": null,
            "width": null
          }
        },
        "92e4616bbc8b49119043ddb0716ab3ff": {
          "model_module": "@jupyter-widgets/controls",
          "model_name": "DescriptionStyleModel",
          "model_module_version": "1.5.0",
          "state": {
            "_model_module": "@jupyter-widgets/controls",
            "_model_module_version": "1.5.0",
            "_model_name": "DescriptionStyleModel",
            "_view_count": null,
            "_view_module": "@jupyter-widgets/base",
            "_view_module_version": "1.2.0",
            "_view_name": "StyleView",
            "description_width": ""
          }
        },
        "132b383b05f04fc08727b7f47cc820ac": {
          "model_module": "@jupyter-widgets/controls",
          "model_name": "HBoxModel",
          "model_module_version": "1.5.0",
          "state": {
            "_dom_classes": [],
            "_model_module": "@jupyter-widgets/controls",
            "_model_module_version": "1.5.0",
            "_model_name": "HBoxModel",
            "_view_count": null,
            "_view_module": "@jupyter-widgets/controls",
            "_view_module_version": "1.5.0",
            "_view_name": "HBoxView",
            "box_style": "",
            "children": [
              "IPY_MODEL_41d1affcaa7f4898a7050243cdd55442",
              "IPY_MODEL_48df61a262fd4d618d3d78c1777125fd",
              "IPY_MODEL_d5e796ec92b140f295cb1e8b40041cfc"
            ],
            "layout": "IPY_MODEL_57814e0bfea54d609cc9c906bb8224f4"
          }
        },
        "41d1affcaa7f4898a7050243cdd55442": {
          "model_module": "@jupyter-widgets/controls",
          "model_name": "HTMLModel",
          "model_module_version": "1.5.0",
          "state": {
            "_dom_classes": [],
            "_model_module": "@jupyter-widgets/controls",
            "_model_module_version": "1.5.0",
            "_model_name": "HTMLModel",
            "_view_count": null,
            "_view_module": "@jupyter-widgets/controls",
            "_view_module_version": "1.5.0",
            "_view_name": "HTMLView",
            "description": "",
            "description_tooltip": null,
            "layout": "IPY_MODEL_ef6ad019a38a4a1c861e8617e346e753",
            "placeholder": "​",
            "style": "IPY_MODEL_c8bde02a7a9247d8b0b21764a9ccbe48",
            "value": "Map: 100%"
          }
        },
        "48df61a262fd4d618d3d78c1777125fd": {
          "model_module": "@jupyter-widgets/controls",
          "model_name": "FloatProgressModel",
          "model_module_version": "1.5.0",
          "state": {
            "_dom_classes": [],
            "_model_module": "@jupyter-widgets/controls",
            "_model_module_version": "1.5.0",
            "_model_name": "FloatProgressModel",
            "_view_count": null,
            "_view_module": "@jupyter-widgets/controls",
            "_view_module_version": "1.5.0",
            "_view_name": "ProgressView",
            "bar_style": "",
            "description": "",
            "description_tooltip": null,
            "layout": "IPY_MODEL_c04f062522194d48aadbe0d898d75ad8",
            "max": 4490,
            "min": 0,
            "orientation": "horizontal",
            "style": "IPY_MODEL_ae7eb03cd7ea44f7b680b47333dc97b9",
            "value": 4490
          }
        },
        "d5e796ec92b140f295cb1e8b40041cfc": {
          "model_module": "@jupyter-widgets/controls",
          "model_name": "HTMLModel",
          "model_module_version": "1.5.0",
          "state": {
            "_dom_classes": [],
            "_model_module": "@jupyter-widgets/controls",
            "_model_module_version": "1.5.0",
            "_model_name": "HTMLModel",
            "_view_count": null,
            "_view_module": "@jupyter-widgets/controls",
            "_view_module_version": "1.5.0",
            "_view_name": "HTMLView",
            "description": "",
            "description_tooltip": null,
            "layout": "IPY_MODEL_fc2dd1a5240442edbeb0c105562fabb8",
            "placeholder": "​",
            "style": "IPY_MODEL_ef0506c2139445b0a3f133b0b58b8185",
            "value": " 4490/4490 [00:21&lt;00:00, 211.17 examples/s]"
          }
        },
        "57814e0bfea54d609cc9c906bb8224f4": {
          "model_module": "@jupyter-widgets/base",
          "model_name": "LayoutModel",
          "model_module_version": "1.2.0",
          "state": {
            "_model_module": "@jupyter-widgets/base",
            "_model_module_version": "1.2.0",
            "_model_name": "LayoutModel",
            "_view_count": null,
            "_view_module": "@jupyter-widgets/base",
            "_view_module_version": "1.2.0",
            "_view_name": "LayoutView",
            "align_content": null,
            "align_items": null,
            "align_self": null,
            "border": null,
            "bottom": null,
            "display": null,
            "flex": null,
            "flex_flow": null,
            "grid_area": null,
            "grid_auto_columns": null,
            "grid_auto_flow": null,
            "grid_auto_rows": null,
            "grid_column": null,
            "grid_gap": null,
            "grid_row": null,
            "grid_template_areas": null,
            "grid_template_columns": null,
            "grid_template_rows": null,
            "height": null,
            "justify_content": null,
            "justify_items": null,
            "left": null,
            "margin": null,
            "max_height": null,
            "max_width": null,
            "min_height": null,
            "min_width": null,
            "object_fit": null,
            "object_position": null,
            "order": null,
            "overflow": null,
            "overflow_x": null,
            "overflow_y": null,
            "padding": null,
            "right": null,
            "top": null,
            "visibility": "hidden",
            "width": null
          }
        },
        "ef6ad019a38a4a1c861e8617e346e753": {
          "model_module": "@jupyter-widgets/base",
          "model_name": "LayoutModel",
          "model_module_version": "1.2.0",
          "state": {
            "_model_module": "@jupyter-widgets/base",
            "_model_module_version": "1.2.0",
            "_model_name": "LayoutModel",
            "_view_count": null,
            "_view_module": "@jupyter-widgets/base",
            "_view_module_version": "1.2.0",
            "_view_name": "LayoutView",
            "align_content": null,
            "align_items": null,
            "align_self": null,
            "border": null,
            "bottom": null,
            "display": null,
            "flex": null,
            "flex_flow": null,
            "grid_area": null,
            "grid_auto_columns": null,
            "grid_auto_flow": null,
            "grid_auto_rows": null,
            "grid_column": null,
            "grid_gap": null,
            "grid_row": null,
            "grid_template_areas": null,
            "grid_template_columns": null,
            "grid_template_rows": null,
            "height": null,
            "justify_content": null,
            "justify_items": null,
            "left": null,
            "margin": null,
            "max_height": null,
            "max_width": null,
            "min_height": null,
            "min_width": null,
            "object_fit": null,
            "object_position": null,
            "order": null,
            "overflow": null,
            "overflow_x": null,
            "overflow_y": null,
            "padding": null,
            "right": null,
            "top": null,
            "visibility": null,
            "width": null
          }
        },
        "c8bde02a7a9247d8b0b21764a9ccbe48": {
          "model_module": "@jupyter-widgets/controls",
          "model_name": "DescriptionStyleModel",
          "model_module_version": "1.5.0",
          "state": {
            "_model_module": "@jupyter-widgets/controls",
            "_model_module_version": "1.5.0",
            "_model_name": "DescriptionStyleModel",
            "_view_count": null,
            "_view_module": "@jupyter-widgets/base",
            "_view_module_version": "1.2.0",
            "_view_name": "StyleView",
            "description_width": ""
          }
        },
        "c04f062522194d48aadbe0d898d75ad8": {
          "model_module": "@jupyter-widgets/base",
          "model_name": "LayoutModel",
          "model_module_version": "1.2.0",
          "state": {
            "_model_module": "@jupyter-widgets/base",
            "_model_module_version": "1.2.0",
            "_model_name": "LayoutModel",
            "_view_count": null,
            "_view_module": "@jupyter-widgets/base",
            "_view_module_version": "1.2.0",
            "_view_name": "LayoutView",
            "align_content": null,
            "align_items": null,
            "align_self": null,
            "border": null,
            "bottom": null,
            "display": null,
            "flex": null,
            "flex_flow": null,
            "grid_area": null,
            "grid_auto_columns": null,
            "grid_auto_flow": null,
            "grid_auto_rows": null,
            "grid_column": null,
            "grid_gap": null,
            "grid_row": null,
            "grid_template_areas": null,
            "grid_template_columns": null,
            "grid_template_rows": null,
            "height": null,
            "justify_content": null,
            "justify_items": null,
            "left": null,
            "margin": null,
            "max_height": null,
            "max_width": null,
            "min_height": null,
            "min_width": null,
            "object_fit": null,
            "object_position": null,
            "order": null,
            "overflow": null,
            "overflow_x": null,
            "overflow_y": null,
            "padding": null,
            "right": null,
            "top": null,
            "visibility": null,
            "width": null
          }
        },
        "ae7eb03cd7ea44f7b680b47333dc97b9": {
          "model_module": "@jupyter-widgets/controls",
          "model_name": "ProgressStyleModel",
          "model_module_version": "1.5.0",
          "state": {
            "_model_module": "@jupyter-widgets/controls",
            "_model_module_version": "1.5.0",
            "_model_name": "ProgressStyleModel",
            "_view_count": null,
            "_view_module": "@jupyter-widgets/base",
            "_view_module_version": "1.2.0",
            "_view_name": "StyleView",
            "bar_color": null,
            "description_width": ""
          }
        },
        "fc2dd1a5240442edbeb0c105562fabb8": {
          "model_module": "@jupyter-widgets/base",
          "model_name": "LayoutModel",
          "model_module_version": "1.2.0",
          "state": {
            "_model_module": "@jupyter-widgets/base",
            "_model_module_version": "1.2.0",
            "_model_name": "LayoutModel",
            "_view_count": null,
            "_view_module": "@jupyter-widgets/base",
            "_view_module_version": "1.2.0",
            "_view_name": "LayoutView",
            "align_content": null,
            "align_items": null,
            "align_self": null,
            "border": null,
            "bottom": null,
            "display": null,
            "flex": null,
            "flex_flow": null,
            "grid_area": null,
            "grid_auto_columns": null,
            "grid_auto_flow": null,
            "grid_auto_rows": null,
            "grid_column": null,
            "grid_gap": null,
            "grid_row": null,
            "grid_template_areas": null,
            "grid_template_columns": null,
            "grid_template_rows": null,
            "height": null,
            "justify_content": null,
            "justify_items": null,
            "left": null,
            "margin": null,
            "max_height": null,
            "max_width": null,
            "min_height": null,
            "min_width": null,
            "object_fit": null,
            "object_position": null,
            "order": null,
            "overflow": null,
            "overflow_x": null,
            "overflow_y": null,
            "padding": null,
            "right": null,
            "top": null,
            "visibility": null,
            "width": null
          }
        },
        "ef0506c2139445b0a3f133b0b58b8185": {
          "model_module": "@jupyter-widgets/controls",
          "model_name": "DescriptionStyleModel",
          "model_module_version": "1.5.0",
          "state": {
            "_model_module": "@jupyter-widgets/controls",
            "_model_module_version": "1.5.0",
            "_model_name": "DescriptionStyleModel",
            "_view_count": null,
            "_view_module": "@jupyter-widgets/base",
            "_view_module_version": "1.2.0",
            "_view_name": "StyleView",
            "description_width": ""
          }
        },
        "5d7aa9d18f1f461dbe8c8b43036b103b": {
          "model_module": "@jupyter-widgets/controls",
          "model_name": "HBoxModel",
          "model_module_version": "1.5.0",
          "state": {
            "_dom_classes": [],
            "_model_module": "@jupyter-widgets/controls",
            "_model_module_version": "1.5.0",
            "_model_name": "HBoxModel",
            "_view_count": null,
            "_view_module": "@jupyter-widgets/controls",
            "_view_module_version": "1.5.0",
            "_view_name": "HBoxView",
            "box_style": "",
            "children": [
              "IPY_MODEL_4b7c7474fb8e4cb2a244dbea29951f67",
              "IPY_MODEL_1e572aeb99674a7095172800fffe7035",
              "IPY_MODEL_d077d4c0847a4c62845583c42fd9c557"
            ],
            "layout": "IPY_MODEL_0fa831b3e8af4b5ba3a91fdb7409adb9"
          }
        },
        "4b7c7474fb8e4cb2a244dbea29951f67": {
          "model_module": "@jupyter-widgets/controls",
          "model_name": "HTMLModel",
          "model_module_version": "1.5.0",
          "state": {
            "_dom_classes": [],
            "_model_module": "@jupyter-widgets/controls",
            "_model_module_version": "1.5.0",
            "_model_name": "HTMLModel",
            "_view_count": null,
            "_view_module": "@jupyter-widgets/controls",
            "_view_module_version": "1.5.0",
            "_view_name": "HTMLView",
            "description": "",
            "description_tooltip": null,
            "layout": "IPY_MODEL_5874f7f80faf4d4789a613fab9ec53ed",
            "placeholder": "​",
            "style": "IPY_MODEL_a201391231ef4cd4bb2b131489286615",
            "value": "Map: 100%"
          }
        },
        "1e572aeb99674a7095172800fffe7035": {
          "model_module": "@jupyter-widgets/controls",
          "model_name": "FloatProgressModel",
          "model_module_version": "1.5.0",
          "state": {
            "_dom_classes": [],
            "_model_module": "@jupyter-widgets/controls",
            "_model_module_version": "1.5.0",
            "_model_name": "FloatProgressModel",
            "_view_count": null,
            "_view_module": "@jupyter-widgets/controls",
            "_view_module_version": "1.5.0",
            "_view_name": "ProgressView",
            "bar_style": "",
            "description": "",
            "description_tooltip": null,
            "layout": "IPY_MODEL_405cf3e842b746578e81e977f386c03f",
            "max": 4490,
            "min": 0,
            "orientation": "horizontal",
            "style": "IPY_MODEL_37d8de1d5df54bef8e6c88396b5b9329",
            "value": 4490
          }
        },
        "d077d4c0847a4c62845583c42fd9c557": {
          "model_module": "@jupyter-widgets/controls",
          "model_name": "HTMLModel",
          "model_module_version": "1.5.0",
          "state": {
            "_dom_classes": [],
            "_model_module": "@jupyter-widgets/controls",
            "_model_module_version": "1.5.0",
            "_model_name": "HTMLModel",
            "_view_count": null,
            "_view_module": "@jupyter-widgets/controls",
            "_view_module_version": "1.5.0",
            "_view_name": "HTMLView",
            "description": "",
            "description_tooltip": null,
            "layout": "IPY_MODEL_797c76f4b4794ec4ad530f844ed29a86",
            "placeholder": "​",
            "style": "IPY_MODEL_0f1cb2c58cc546028acee92294546d4d",
            "value": " 4490/4490 [00:22&lt;00:00, 205.92 examples/s]"
          }
        },
        "0fa831b3e8af4b5ba3a91fdb7409adb9": {
          "model_module": "@jupyter-widgets/base",
          "model_name": "LayoutModel",
          "model_module_version": "1.2.0",
          "state": {
            "_model_module": "@jupyter-widgets/base",
            "_model_module_version": "1.2.0",
            "_model_name": "LayoutModel",
            "_view_count": null,
            "_view_module": "@jupyter-widgets/base",
            "_view_module_version": "1.2.0",
            "_view_name": "LayoutView",
            "align_content": null,
            "align_items": null,
            "align_self": null,
            "border": null,
            "bottom": null,
            "display": null,
            "flex": null,
            "flex_flow": null,
            "grid_area": null,
            "grid_auto_columns": null,
            "grid_auto_flow": null,
            "grid_auto_rows": null,
            "grid_column": null,
            "grid_gap": null,
            "grid_row": null,
            "grid_template_areas": null,
            "grid_template_columns": null,
            "grid_template_rows": null,
            "height": null,
            "justify_content": null,
            "justify_items": null,
            "left": null,
            "margin": null,
            "max_height": null,
            "max_width": null,
            "min_height": null,
            "min_width": null,
            "object_fit": null,
            "object_position": null,
            "order": null,
            "overflow": null,
            "overflow_x": null,
            "overflow_y": null,
            "padding": null,
            "right": null,
            "top": null,
            "visibility": "hidden",
            "width": null
          }
        },
        "5874f7f80faf4d4789a613fab9ec53ed": {
          "model_module": "@jupyter-widgets/base",
          "model_name": "LayoutModel",
          "model_module_version": "1.2.0",
          "state": {
            "_model_module": "@jupyter-widgets/base",
            "_model_module_version": "1.2.0",
            "_model_name": "LayoutModel",
            "_view_count": null,
            "_view_module": "@jupyter-widgets/base",
            "_view_module_version": "1.2.0",
            "_view_name": "LayoutView",
            "align_content": null,
            "align_items": null,
            "align_self": null,
            "border": null,
            "bottom": null,
            "display": null,
            "flex": null,
            "flex_flow": null,
            "grid_area": null,
            "grid_auto_columns": null,
            "grid_auto_flow": null,
            "grid_auto_rows": null,
            "grid_column": null,
            "grid_gap": null,
            "grid_row": null,
            "grid_template_areas": null,
            "grid_template_columns": null,
            "grid_template_rows": null,
            "height": null,
            "justify_content": null,
            "justify_items": null,
            "left": null,
            "margin": null,
            "max_height": null,
            "max_width": null,
            "min_height": null,
            "min_width": null,
            "object_fit": null,
            "object_position": null,
            "order": null,
            "overflow": null,
            "overflow_x": null,
            "overflow_y": null,
            "padding": null,
            "right": null,
            "top": null,
            "visibility": null,
            "width": null
          }
        },
        "a201391231ef4cd4bb2b131489286615": {
          "model_module": "@jupyter-widgets/controls",
          "model_name": "DescriptionStyleModel",
          "model_module_version": "1.5.0",
          "state": {
            "_model_module": "@jupyter-widgets/controls",
            "_model_module_version": "1.5.0",
            "_model_name": "DescriptionStyleModel",
            "_view_count": null,
            "_view_module": "@jupyter-widgets/base",
            "_view_module_version": "1.2.0",
            "_view_name": "StyleView",
            "description_width": ""
          }
        },
        "405cf3e842b746578e81e977f386c03f": {
          "model_module": "@jupyter-widgets/base",
          "model_name": "LayoutModel",
          "model_module_version": "1.2.0",
          "state": {
            "_model_module": "@jupyter-widgets/base",
            "_model_module_version": "1.2.0",
            "_model_name": "LayoutModel",
            "_view_count": null,
            "_view_module": "@jupyter-widgets/base",
            "_view_module_version": "1.2.0",
            "_view_name": "LayoutView",
            "align_content": null,
            "align_items": null,
            "align_self": null,
            "border": null,
            "bottom": null,
            "display": null,
            "flex": null,
            "flex_flow": null,
            "grid_area": null,
            "grid_auto_columns": null,
            "grid_auto_flow": null,
            "grid_auto_rows": null,
            "grid_column": null,
            "grid_gap": null,
            "grid_row": null,
            "grid_template_areas": null,
            "grid_template_columns": null,
            "grid_template_rows": null,
            "height": null,
            "justify_content": null,
            "justify_items": null,
            "left": null,
            "margin": null,
            "max_height": null,
            "max_width": null,
            "min_height": null,
            "min_width": null,
            "object_fit": null,
            "object_position": null,
            "order": null,
            "overflow": null,
            "overflow_x": null,
            "overflow_y": null,
            "padding": null,
            "right": null,
            "top": null,
            "visibility": null,
            "width": null
          }
        },
        "37d8de1d5df54bef8e6c88396b5b9329": {
          "model_module": "@jupyter-widgets/controls",
          "model_name": "ProgressStyleModel",
          "model_module_version": "1.5.0",
          "state": {
            "_model_module": "@jupyter-widgets/controls",
            "_model_module_version": "1.5.0",
            "_model_name": "ProgressStyleModel",
            "_view_count": null,
            "_view_module": "@jupyter-widgets/base",
            "_view_module_version": "1.2.0",
            "_view_name": "StyleView",
            "bar_color": null,
            "description_width": ""
          }
        },
        "797c76f4b4794ec4ad530f844ed29a86": {
          "model_module": "@jupyter-widgets/base",
          "model_name": "LayoutModel",
          "model_module_version": "1.2.0",
          "state": {
            "_model_module": "@jupyter-widgets/base",
            "_model_module_version": "1.2.0",
            "_model_name": "LayoutModel",
            "_view_count": null,
            "_view_module": "@jupyter-widgets/base",
            "_view_module_version": "1.2.0",
            "_view_name": "LayoutView",
            "align_content": null,
            "align_items": null,
            "align_self": null,
            "border": null,
            "bottom": null,
            "display": null,
            "flex": null,
            "flex_flow": null,
            "grid_area": null,
            "grid_auto_columns": null,
            "grid_auto_flow": null,
            "grid_auto_rows": null,
            "grid_column": null,
            "grid_gap": null,
            "grid_row": null,
            "grid_template_areas": null,
            "grid_template_columns": null,
            "grid_template_rows": null,
            "height": null,
            "justify_content": null,
            "justify_items": null,
            "left": null,
            "margin": null,
            "max_height": null,
            "max_width": null,
            "min_height": null,
            "min_width": null,
            "object_fit": null,
            "object_position": null,
            "order": null,
            "overflow": null,
            "overflow_x": null,
            "overflow_y": null,
            "padding": null,
            "right": null,
            "top": null,
            "visibility": null,
            "width": null
          }
        },
        "0f1cb2c58cc546028acee92294546d4d": {
          "model_module": "@jupyter-widgets/controls",
          "model_name": "DescriptionStyleModel",
          "model_module_version": "1.5.0",
          "state": {
            "_model_module": "@jupyter-widgets/controls",
            "_model_module_version": "1.5.0",
            "_model_name": "DescriptionStyleModel",
            "_view_count": null,
            "_view_module": "@jupyter-widgets/base",
            "_view_module_version": "1.2.0",
            "_view_name": "StyleView",
            "description_width": ""
          }
        },
        "579a050988b241ce8e80e830930edc87": {
          "model_module": "@jupyter-widgets/controls",
          "model_name": "HBoxModel",
          "model_module_version": "1.5.0",
          "state": {
            "_dom_classes": [],
            "_model_module": "@jupyter-widgets/controls",
            "_model_module_version": "1.5.0",
            "_model_name": "HBoxModel",
            "_view_count": null,
            "_view_module": "@jupyter-widgets/controls",
            "_view_module_version": "1.5.0",
            "_view_name": "HBoxView",
            "box_style": "",
            "children": [
              "IPY_MODEL_44b3669701b84c709fb4590b31c041ab",
              "IPY_MODEL_0aa26e85f3044341b2485d0e55567edd",
              "IPY_MODEL_ba0cf62a2c1742fc9b839aa3aefa88f9"
            ],
            "layout": "IPY_MODEL_eebef5c36b80457180d84acbf5352d42"
          }
        },
        "44b3669701b84c709fb4590b31c041ab": {
          "model_module": "@jupyter-widgets/controls",
          "model_name": "HTMLModel",
          "model_module_version": "1.5.0",
          "state": {
            "_dom_classes": [],
            "_model_module": "@jupyter-widgets/controls",
            "_model_module_version": "1.5.0",
            "_model_name": "HTMLModel",
            "_view_count": null,
            "_view_module": "@jupyter-widgets/controls",
            "_view_module_version": "1.5.0",
            "_view_name": "HTMLView",
            "description": "",
            "description_tooltip": null,
            "layout": "IPY_MODEL_6ef909bdd88346ee88c5e76d8ae6aebf",
            "placeholder": "​",
            "style": "IPY_MODEL_ab8a71a387c14f69897e92cf0ca867ef",
            "value": "model.safetensors: 100%"
          }
        },
        "0aa26e85f3044341b2485d0e55567edd": {
          "model_module": "@jupyter-widgets/controls",
          "model_name": "FloatProgressModel",
          "model_module_version": "1.5.0",
          "state": {
            "_dom_classes": [],
            "_model_module": "@jupyter-widgets/controls",
            "_model_module_version": "1.5.0",
            "_model_name": "FloatProgressModel",
            "_view_count": null,
            "_view_module": "@jupyter-widgets/controls",
            "_view_module_version": "1.5.0",
            "_view_name": "ProgressView",
            "bar_style": "success",
            "description": "",
            "description_tooltip": null,
            "layout": "IPY_MODEL_05ce6d714f464ca187b8f40f8193ca77",
            "max": 714290682,
            "min": 0,
            "orientation": "horizontal",
            "style": "IPY_MODEL_b25a0b08e0af43fb9dce46dd92365ba9",
            "value": 714290682
          }
        },
        "ba0cf62a2c1742fc9b839aa3aefa88f9": {
          "model_module": "@jupyter-widgets/controls",
          "model_name": "HTMLModel",
          "model_module_version": "1.5.0",
          "state": {
            "_dom_classes": [],
            "_model_module": "@jupyter-widgets/controls",
            "_model_module_version": "1.5.0",
            "_model_name": "HTMLModel",
            "_view_count": null,
            "_view_module": "@jupyter-widgets/controls",
            "_view_module_version": "1.5.0",
            "_view_name": "HTMLView",
            "description": "",
            "description_tooltip": null,
            "layout": "IPY_MODEL_7f949e7887314f408d044b2a3af89ee5",
            "placeholder": "​",
            "style": "IPY_MODEL_14d96ea6112c4857bd22687c76c91cb6",
            "value": " 714M/714M [00:09&lt;00:00, 111MB/s]"
          }
        },
        "eebef5c36b80457180d84acbf5352d42": {
          "model_module": "@jupyter-widgets/base",
          "model_name": "LayoutModel",
          "model_module_version": "1.2.0",
          "state": {
            "_model_module": "@jupyter-widgets/base",
            "_model_module_version": "1.2.0",
            "_model_name": "LayoutModel",
            "_view_count": null,
            "_view_module": "@jupyter-widgets/base",
            "_view_module_version": "1.2.0",
            "_view_name": "LayoutView",
            "align_content": null,
            "align_items": null,
            "align_self": null,
            "border": null,
            "bottom": null,
            "display": null,
            "flex": null,
            "flex_flow": null,
            "grid_area": null,
            "grid_auto_columns": null,
            "grid_auto_flow": null,
            "grid_auto_rows": null,
            "grid_column": null,
            "grid_gap": null,
            "grid_row": null,
            "grid_template_areas": null,
            "grid_template_columns": null,
            "grid_template_rows": null,
            "height": null,
            "justify_content": null,
            "justify_items": null,
            "left": null,
            "margin": null,
            "max_height": null,
            "max_width": null,
            "min_height": null,
            "min_width": null,
            "object_fit": null,
            "object_position": null,
            "order": null,
            "overflow": null,
            "overflow_x": null,
            "overflow_y": null,
            "padding": null,
            "right": null,
            "top": null,
            "visibility": null,
            "width": null
          }
        },
        "6ef909bdd88346ee88c5e76d8ae6aebf": {
          "model_module": "@jupyter-widgets/base",
          "model_name": "LayoutModel",
          "model_module_version": "1.2.0",
          "state": {
            "_model_module": "@jupyter-widgets/base",
            "_model_module_version": "1.2.0",
            "_model_name": "LayoutModel",
            "_view_count": null,
            "_view_module": "@jupyter-widgets/base",
            "_view_module_version": "1.2.0",
            "_view_name": "LayoutView",
            "align_content": null,
            "align_items": null,
            "align_self": null,
            "border": null,
            "bottom": null,
            "display": null,
            "flex": null,
            "flex_flow": null,
            "grid_area": null,
            "grid_auto_columns": null,
            "grid_auto_flow": null,
            "grid_auto_rows": null,
            "grid_column": null,
            "grid_gap": null,
            "grid_row": null,
            "grid_template_areas": null,
            "grid_template_columns": null,
            "grid_template_rows": null,
            "height": null,
            "justify_content": null,
            "justify_items": null,
            "left": null,
            "margin": null,
            "max_height": null,
            "max_width": null,
            "min_height": null,
            "min_width": null,
            "object_fit": null,
            "object_position": null,
            "order": null,
            "overflow": null,
            "overflow_x": null,
            "overflow_y": null,
            "padding": null,
            "right": null,
            "top": null,
            "visibility": null,
            "width": null
          }
        },
        "ab8a71a387c14f69897e92cf0ca867ef": {
          "model_module": "@jupyter-widgets/controls",
          "model_name": "DescriptionStyleModel",
          "model_module_version": "1.5.0",
          "state": {
            "_model_module": "@jupyter-widgets/controls",
            "_model_module_version": "1.5.0",
            "_model_name": "DescriptionStyleModel",
            "_view_count": null,
            "_view_module": "@jupyter-widgets/base",
            "_view_module_version": "1.2.0",
            "_view_name": "StyleView",
            "description_width": ""
          }
        },
        "05ce6d714f464ca187b8f40f8193ca77": {
          "model_module": "@jupyter-widgets/base",
          "model_name": "LayoutModel",
          "model_module_version": "1.2.0",
          "state": {
            "_model_module": "@jupyter-widgets/base",
            "_model_module_version": "1.2.0",
            "_model_name": "LayoutModel",
            "_view_count": null,
            "_view_module": "@jupyter-widgets/base",
            "_view_module_version": "1.2.0",
            "_view_name": "LayoutView",
            "align_content": null,
            "align_items": null,
            "align_self": null,
            "border": null,
            "bottom": null,
            "display": null,
            "flex": null,
            "flex_flow": null,
            "grid_area": null,
            "grid_auto_columns": null,
            "grid_auto_flow": null,
            "grid_auto_rows": null,
            "grid_column": null,
            "grid_gap": null,
            "grid_row": null,
            "grid_template_areas": null,
            "grid_template_columns": null,
            "grid_template_rows": null,
            "height": null,
            "justify_content": null,
            "justify_items": null,
            "left": null,
            "margin": null,
            "max_height": null,
            "max_width": null,
            "min_height": null,
            "min_width": null,
            "object_fit": null,
            "object_position": null,
            "order": null,
            "overflow": null,
            "overflow_x": null,
            "overflow_y": null,
            "padding": null,
            "right": null,
            "top": null,
            "visibility": null,
            "width": null
          }
        },
        "b25a0b08e0af43fb9dce46dd92365ba9": {
          "model_module": "@jupyter-widgets/controls",
          "model_name": "ProgressStyleModel",
          "model_module_version": "1.5.0",
          "state": {
            "_model_module": "@jupyter-widgets/controls",
            "_model_module_version": "1.5.0",
            "_model_name": "ProgressStyleModel",
            "_view_count": null,
            "_view_module": "@jupyter-widgets/base",
            "_view_module_version": "1.2.0",
            "_view_name": "StyleView",
            "bar_color": null,
            "description_width": ""
          }
        },
        "7f949e7887314f408d044b2a3af89ee5": {
          "model_module": "@jupyter-widgets/base",
          "model_name": "LayoutModel",
          "model_module_version": "1.2.0",
          "state": {
            "_model_module": "@jupyter-widgets/base",
            "_model_module_version": "1.2.0",
            "_model_name": "LayoutModel",
            "_view_count": null,
            "_view_module": "@jupyter-widgets/base",
            "_view_module_version": "1.2.0",
            "_view_name": "LayoutView",
            "align_content": null,
            "align_items": null,
            "align_self": null,
            "border": null,
            "bottom": null,
            "display": null,
            "flex": null,
            "flex_flow": null,
            "grid_area": null,
            "grid_auto_columns": null,
            "grid_auto_flow": null,
            "grid_auto_rows": null,
            "grid_column": null,
            "grid_gap": null,
            "grid_row": null,
            "grid_template_areas": null,
            "grid_template_columns": null,
            "grid_template_rows": null,
            "height": null,
            "justify_content": null,
            "justify_items": null,
            "left": null,
            "margin": null,
            "max_height": null,
            "max_width": null,
            "min_height": null,
            "min_width": null,
            "object_fit": null,
            "object_position": null,
            "order": null,
            "overflow": null,
            "overflow_x": null,
            "overflow_y": null,
            "padding": null,
            "right": null,
            "top": null,
            "visibility": null,
            "width": null
          }
        },
        "14d96ea6112c4857bd22687c76c91cb6": {
          "model_module": "@jupyter-widgets/controls",
          "model_name": "DescriptionStyleModel",
          "model_module_version": "1.5.0",
          "state": {
            "_model_module": "@jupyter-widgets/controls",
            "_model_module_version": "1.5.0",
            "_model_name": "DescriptionStyleModel",
            "_view_count": null,
            "_view_module": "@jupyter-widgets/base",
            "_view_module_version": "1.2.0",
            "_view_name": "StyleView",
            "description_width": ""
          }
        }
      }
    },
    "kaggle": {
      "accelerator": "nvidiaTeslaT4",
      "dataSources": [
        {
          "sourceId": 12615497,
          "sourceType": "datasetVersion",
          "datasetId": 7969760
        },
        {
          "sourceId": 13100101,
          "sourceType": "datasetVersion",
          "datasetId": 8298166
        },
        {
          "sourceId": 13100224,
          "sourceType": "datasetVersion",
          "datasetId": 8298248
        }
      ],
      "dockerImageVersionId": 31090,
      "isInternetEnabled": true,
      "language": "python",
      "sourceType": "notebook",
      "isGpuEnabled": true
    }
  },
  "nbformat_minor": 0,
  "nbformat": 4,
  "cells": [
    {
      "cell_type": "code",
      "source": [
        "!pip uninstall -y transformers datasets numpy\n",
        "!pip install transformers==4.28.1 datasets==2.10.1 numpy==1.26.4 scikit-learn --quiet\n"
      ],
      "metadata": {
        "colab": {
          "base_uri": "https://localhost:8080/"
        },
        "id": "XighqMfqkpAh",
        "outputId": "f7abda92-1e3e-4f53-f53b-602dc4c2b825",
        "trusted": true,
        "execution": {
          "iopub.status.busy": "2025-09-18T13:00:57.228647Z",
          "iopub.execute_input": "2025-09-18T13:00:57.228898Z",
          "iopub.status.idle": "2025-09-18T13:01:09.564472Z",
          "shell.execute_reply.started": "2025-09-18T13:00:57.228877Z",
          "shell.execute_reply": "2025-09-18T13:01:09.563592Z"
        }
      },
      "outputs": [
        {
          "name": "stdout",
          "text": "\u001b[33mWARNING: Skipping transformers as it is not installed.\u001b[0m\u001b[33m\n\u001b[0m\u001b[33mWARNING: Skipping datasets as it is not installed.\u001b[0m\u001b[33m\n\u001b[0m\u001b[33mWARNING: Skipping numpy as it is not installed.\u001b[0m\u001b[33m\n\u001b[0m\u001b[31mERROR: pip's dependency resolver does not currently take into account all the packages that are installed. This behaviour is the source of the following dependency conflicts.\nbigframes 2.8.0 requires google-cloud-bigquery-storage<3.0.0,>=2.30.0, which is not installed.\ngensim 4.3.3 requires scipy<1.14.0,>=1.7.0, but you have scipy 1.15.3 which is incompatible.\nonnx 1.18.0 requires protobuf>=4.25.1, but you have protobuf 3.20.3 which is incompatible.\nkaggle-environments 1.17.6 requires transformers>=4.33.1, but you have transformers 4.28.1 which is incompatible.\ncesium 0.12.4 requires numpy<3.0,>=2.0, but you have numpy 1.26.4 which is incompatible.\ngoogle-colab 1.0.0 requires google-auth==2.38.0, but you have google-auth 2.40.3 which is incompatible.\ngoogle-colab 1.0.0 requires notebook==6.5.7, but you have notebook 6.5.4 which is incompatible.\ngoogle-colab 1.0.0 requires pandas==2.2.2, but you have pandas 2.2.3 which is incompatible.\ngoogle-colab 1.0.0 requires requests==2.32.3, but you have requests 2.32.4 which is incompatible.\ngoogle-colab 1.0.0 requires tornado==6.4.2, but you have tornado 6.5.1 which is incompatible.\ndopamine-rl 4.1.2 requires gymnasium>=1.0.0, but you have gymnasium 0.29.0 which is incompatible.\npandas-gbq 0.29.1 requires google-api-core<3.0.0,>=2.10.2, but you have google-api-core 1.34.1 which is incompatible.\nsentence-transformers 4.1.0 requires transformers<5.0.0,>=4.41.0, but you have transformers 4.28.1 which is incompatible.\nthinc 8.3.6 requires numpy<3.0.0,>=2.0.0, but you have numpy 1.26.4 which is incompatible.\nimbalanced-learn 0.13.0 requires scikit-learn<2,>=1.3.2, but you have scikit-learn 1.2.2 which is incompatible.\nplotnine 0.14.5 requires matplotlib>=3.8.0, but you have matplotlib 3.7.2 which is incompatible.\nbigframes 2.8.0 requires google-cloud-bigquery[bqstorage,pandas]>=3.31.0, but you have google-cloud-bigquery 3.25.0 which is incompatible.\nbigframes 2.8.0 requires rich<14,>=12.4.4, but you have rich 14.0.0 which is incompatible.\nmlxtend 0.23.4 requires scikit-learn>=1.3.1, but you have scikit-learn 1.2.2 which is incompatible.\u001b[0m\u001b[31m\n\u001b[0m",
          "output_type": "stream"
        }
      ],
      "execution_count": null
    },
    {
      "cell_type": "markdown",
      "source": [
        "# ***Mount Google Drive & Load CSV Files***"
      ],
      "metadata": {
        "id": "KNr7Cg5gm48t"
      }
    },
    {
      "cell_type": "code",
      "source": [
        "import pandas as pd\n",
        "\n",
        "train_path = \"/kaggle/input/fake-news-data/Train_1.csv\"\n",
        "test_path  = \"/kaggle/input/fake-news-data/Test1.csv\"\n",
        "valid_path = \"/kaggle/input/fake-news-data/Valid1.csv\"\n",
        "\n",
        "train_df = pd.read_csv(train_path)\n",
        "test_df = pd.read_csv(test_path)\n",
        "val_df = pd.read_csv(valid_path)"
      ],
      "metadata": {
        "id": "uwgKW0mtnBRK",
        "trusted": true,
        "execution": {
          "iopub.status.busy": "2025-09-18T13:01:15.857224Z",
          "iopub.execute_input": "2025-09-18T13:01:15.857639Z",
          "iopub.status.idle": "2025-09-18T13:01:18.987105Z",
          "shell.execute_reply.started": "2025-09-18T13:01:15.857612Z",
          "shell.execute_reply": "2025-09-18T13:01:18.986561Z"
        }
      },
      "outputs": [],
      "execution_count": null
    },
    {
      "cell_type": "code",
      "source": [
        "train_df = train_df[[\"text\", \"label\"]]\n",
        "val_df = val_df[[\"text\", \"label\"]]\n",
        "test_df = test_df[[\"text\", \"label\"]]\n"
      ],
      "metadata": {
        "id": "n2pD7-tVnPGO",
        "trusted": true,
        "execution": {
          "iopub.status.busy": "2025-09-18T13:01:22.795988Z",
          "iopub.execute_input": "2025-09-18T13:01:22.796247Z",
          "iopub.status.idle": "2025-09-18T13:01:22.817426Z",
          "shell.execute_reply.started": "2025-09-18T13:01:22.796228Z",
          "shell.execute_reply": "2025-09-18T13:01:22.816724Z"
        }
      },
      "outputs": [],
      "execution_count": null
    },
    {
      "cell_type": "code",
      "source": [
        "train_df.shape"
      ],
      "metadata": {
        "colab": {
          "base_uri": "https://localhost:8080/"
        },
        "id": "aJkiZKT8hO9Y",
        "outputId": "42d18727-92ec-4b45-870f-4692443080bd",
        "trusted": true,
        "execution": {
          "iopub.status.busy": "2025-09-18T12:44:10.481387Z",
          "iopub.execute_input": "2025-09-18T12:44:10.481662Z",
          "iopub.status.idle": "2025-09-18T12:44:10.487172Z",
          "shell.execute_reply.started": "2025-09-18T12:44:10.481641Z",
          "shell.execute_reply": "2025-09-18T12:44:10.486526Z"
        }
      },
      "outputs": [
        {
          "execution_count": 28,
          "output_type": "execute_result",
          "data": {
            "text/plain": "(35918, 2)"
          },
          "metadata": {}
        }
      ],
      "execution_count": null
    },
    {
      "cell_type": "code",
      "source": [
        "train_df.head()"
      ],
      "metadata": {
        "colab": {
          "base_uri": "https://localhost:8080/",
          "height": 293
        },
        "id": "iplZLBI2hFD7",
        "outputId": "eceb2f8a-a02e-479a-a2a2-115d7b567a08",
        "trusted": true,
        "execution": {
          "iopub.status.busy": "2025-09-18T12:44:13.502952Z",
          "iopub.execute_input": "2025-09-18T12:44:13.503695Z",
          "iopub.status.idle": "2025-09-18T12:44:13.530014Z",
          "shell.execute_reply.started": "2025-09-18T12:44:13.503671Z",
          "shell.execute_reply": "2025-09-18T12:44:13.529190Z"
        }
      },
      "outputs": [
        {
          "execution_count": 29,
          "output_type": "execute_result",
          "data": {
            "text/plain": "                                                text  label\n0  So the Conway marriage just took a turn   and ...      0\n1  Jeb Bush just unofficially placed himself on t...      0\n2   21st Century Wire says While the US media con...      0\n3  JERUSALEM (Reuters) - Israeli Prime Minister B...      1\n4  Here s a compilation of President Trump s most...      0",
            "text/html": "<div>\n<style scoped>\n    .dataframe tbody tr th:only-of-type {\n        vertical-align: middle;\n    }\n\n    .dataframe tbody tr th {\n        vertical-align: top;\n    }\n\n    .dataframe thead th {\n        text-align: right;\n    }\n</style>\n<table border=\"1\" class=\"dataframe\">\n  <thead>\n    <tr style=\"text-align: right;\">\n      <th></th>\n      <th>text</th>\n      <th>label</th>\n    </tr>\n  </thead>\n  <tbody>\n    <tr>\n      <th>0</th>\n      <td>So the Conway marriage just took a turn   and ...</td>\n      <td>0</td>\n    </tr>\n    <tr>\n      <th>1</th>\n      <td>Jeb Bush just unofficially placed himself on t...</td>\n      <td>0</td>\n    </tr>\n    <tr>\n      <th>2</th>\n      <td>21st Century Wire says While the US media con...</td>\n      <td>0</td>\n    </tr>\n    <tr>\n      <th>3</th>\n      <td>JERUSALEM (Reuters) - Israeli Prime Minister B...</td>\n      <td>1</td>\n    </tr>\n    <tr>\n      <th>4</th>\n      <td>Here s a compilation of President Trump s most...</td>\n      <td>0</td>\n    </tr>\n  </tbody>\n</table>\n</div>"
          },
          "metadata": {}
        }
      ],
      "execution_count": null
    },
    {
      "cell_type": "code",
      "source": [
        "test_df.head()"
      ],
      "metadata": {
        "colab": {
          "base_uri": "https://localhost:8080/",
          "height": 206
        },
        "id": "sZ1O4a9unRt2",
        "outputId": "d551e5b7-0353-4175-b7aa-04c81517132f",
        "trusted": true,
        "execution": {
          "iopub.status.busy": "2025-09-18T12:44:27.560624Z",
          "iopub.execute_input": "2025-09-18T12:44:27.561372Z",
          "iopub.status.idle": "2025-09-18T12:44:27.568190Z",
          "shell.execute_reply.started": "2025-09-18T12:44:27.561350Z",
          "shell.execute_reply": "2025-09-18T12:44:27.567550Z"
        }
      },
      "outputs": [
        {
          "execution_count": 30,
          "output_type": "execute_result",
          "data": {
            "text/plain": "                                                text  label\n0  The recipient of the Presidential Medal of Fre...      0\n1  Nothing shady here, huh? Unbelievable!Even by ...      0\n2  Republican front runner Donald Trump loves to ...      0\n3  WASHINGTON (Reuters) - The Environmental Prote...      1\n4  Hillary Clinton s supporters were calling cert...      0",
            "text/html": "<div>\n<style scoped>\n    .dataframe tbody tr th:only-of-type {\n        vertical-align: middle;\n    }\n\n    .dataframe tbody tr th {\n        vertical-align: top;\n    }\n\n    .dataframe thead th {\n        text-align: right;\n    }\n</style>\n<table border=\"1\" class=\"dataframe\">\n  <thead>\n    <tr style=\"text-align: right;\">\n      <th></th>\n      <th>text</th>\n      <th>label</th>\n    </tr>\n  </thead>\n  <tbody>\n    <tr>\n      <th>0</th>\n      <td>The recipient of the Presidential Medal of Fre...</td>\n      <td>0</td>\n    </tr>\n    <tr>\n      <th>1</th>\n      <td>Nothing shady here, huh? Unbelievable!Even by ...</td>\n      <td>0</td>\n    </tr>\n    <tr>\n      <th>2</th>\n      <td>Republican front runner Donald Trump loves to ...</td>\n      <td>0</td>\n    </tr>\n    <tr>\n      <th>3</th>\n      <td>WASHINGTON (Reuters) - The Environmental Prote...</td>\n      <td>1</td>\n    </tr>\n    <tr>\n      <th>4</th>\n      <td>Hillary Clinton s supporters were calling cert...</td>\n      <td>0</td>\n    </tr>\n  </tbody>\n</table>\n</div>"
          },
          "metadata": {}
        }
      ],
      "execution_count": null
    },
    {
      "cell_type": "markdown",
      "source": [
        "# ***Tokenize Using mBERT***"
      ],
      "metadata": {
        "id": "yP1kpQzBndML"
      }
    },
    {
      "cell_type": "code",
      "source": [
        "from transformers import BertTokenizer\n",
        "from datasets import Dataset\n"
      ],
      "metadata": {
        "id": "1zsXFjOindl2",
        "trusted": true,
        "execution": {
          "iopub.status.busy": "2025-09-18T13:01:29.300442Z",
          "iopub.execute_input": "2025-09-18T13:01:29.301231Z",
          "iopub.status.idle": "2025-09-18T13:01:32.899208Z",
          "shell.execute_reply.started": "2025-09-18T13:01:29.301199Z",
          "shell.execute_reply": "2025-09-18T13:01:32.898398Z"
        }
      },
      "outputs": [],
      "execution_count": null
    },
    {
      "cell_type": "code",
      "source": [
        "tokenizer = BertTokenizer.from_pretrained(\"bert-base-multilingual-cased\")\n"
      ],
      "metadata": {
        "colab": {
          "base_uri": "https://localhost:8080/",
          "height": 272,
          "referenced_widgets": [
            "54f423d9e1d24818bafd9ca2f9a53f1c",
            "3c31c3163f77458ea321121b04762509",
            "1f8114b2c3554f33a461d2dba47cd75d",
            "a4357229175c492e81b76af4e12bd433",
            "d34ca7c643c5475696492e7e3ce64a77",
            "20b9157c498741409089e40fd00fa206",
            "72ff395b03e243768b78841a1c05f34d",
            "ae1f9fb262ab4a3bb786d69c380510ee",
            "9c9ec3212a0347ae95bb793baf809c5f",
            "5108cf142c2b47e0a1f84cadc2f85e64",
            "2aa03ce966284d438c0b888f1b1a4c5f",
            "e800fb2258264f69b9f1882722e71ad8",
            "564b74b791a74f7180177c89ab1c0eac",
            "5c0d8ff24d434fed8c642066ed3e5a1e",
            "4cd2ceff02d84b768fcb592e85e62624",
            "06d0b224b2374d6eb4f3e2767edfa7f7",
            "d2e883c5f4b34947a2a5b21ef95390ac",
            "33a3a55153c44363a28c722e5acc60a8",
            "770fb9989e334745acb933e253b3f65c",
            "5378da1e821a4cf489300e827acd0632",
            "76468d1f646c4e1697c2dab34752e833",
            "9ed027b426014de69827a4c9b11f1ce2",
            "285578e5f7e94e2287977a8bdad1d984",
            "7f6ab92ff7874143ac7e9827f4e58934",
            "6c4291a733fe48929dae6d23340b31f1",
            "b9155a46a2714ffcb2220cb7195a5235",
            "c794c95703c64209933b60922aad55ca",
            "fb65027b57df4e9582839e0ee89ad130",
            "01358a967a844900a80aa6f4b4972642",
            "2c6f776ea4ce4d2099849cfefee650b6",
            "9a5ffa2c20534328b39c890169a7daad",
            "cb4ea191ca334cb9a74a4606e8efacad",
            "4e6d6c59da2d4488b92ffd47021227a5",
            "ae673415113c48d9a9d8269d0b943eed",
            "9303dd2308a742889e9661f59530fa43",
            "4708793b7bac498ea73ebef88cca4a02"
          ]
        },
        "id": "yCUPU6A0nieZ",
        "outputId": "56c3af98-d28b-40f5-9358-277de1be89fd",
        "trusted": true,
        "execution": {
          "iopub.status.busy": "2025-09-18T13:01:34.945335Z",
          "iopub.execute_input": "2025-09-18T13:01:34.945784Z",
          "iopub.status.idle": "2025-09-18T13:01:36.013749Z",
          "shell.execute_reply.started": "2025-09-18T13:01:34.945761Z",
          "shell.execute_reply": "2025-09-18T13:01:36.012903Z"
        }
      },
      "outputs": [
        {
          "name": "stderr",
          "text": "/usr/local/lib/python3.11/dist-packages/huggingface_hub/file_download.py:943: FutureWarning: `resume_download` is deprecated and will be removed in version 1.0.0. Downloads always resume when possible. If you want to force a new download, use `force_download=True`.\n  warnings.warn(\n",
          "output_type": "stream"
        },
        {
          "output_type": "display_data",
          "data": {
            "text/plain": "vocab.txt:   0%|          | 0.00/996k [00:00<?, ?B/s]",
            "application/vnd.jupyter.widget-view+json": {
              "version_major": 2,
              "version_minor": 0,
              "model_id": "ae673415113c48d9a9d8269d0b943eed"
            }
          },
          "metadata": {}
        },
        {
          "output_type": "display_data",
          "data": {
            "text/plain": "tokenizer_config.json:   0%|          | 0.00/49.0 [00:00<?, ?B/s]",
            "application/vnd.jupyter.widget-view+json": {
              "version_major": 2,
              "version_minor": 0,
              "model_id": "9303dd2308a742889e9661f59530fa43"
            }
          },
          "metadata": {}
        },
        {
          "output_type": "display_data",
          "data": {
            "text/plain": "config.json:   0%|          | 0.00/625 [00:00<?, ?B/s]",
            "application/vnd.jupyter.widget-view+json": {
              "version_major": 2,
              "version_minor": 0,
              "model_id": "4708793b7bac498ea73ebef88cca4a02"
            }
          },
          "metadata": {}
        }
      ],
      "execution_count": null
    },
    {
      "cell_type": "code",
      "source": [
        "train_ds = Dataset.from_pandas(train_df)\n",
        "val_ds = Dataset.from_pandas(val_df)\n",
        "test_ds = Dataset.from_pandas(test_df)\n"
      ],
      "metadata": {
        "id": "PmuWFnF2nn3B",
        "trusted": true,
        "execution": {
          "iopub.status.busy": "2025-09-18T13:01:39.286177Z",
          "iopub.execute_input": "2025-09-18T13:01:39.286431Z",
          "iopub.status.idle": "2025-09-18T13:01:39.628513Z",
          "shell.execute_reply.started": "2025-09-18T13:01:39.286409Z",
          "shell.execute_reply": "2025-09-18T13:01:39.627719Z"
        }
      },
      "outputs": [],
      "execution_count": null
    },
    {
      "cell_type": "code",
      "source": [
        "def tokenize_fn(example):\n",
        "    return tokenizer(example[\"text\"], truncation=True, padding=\"max_length\", max_length=128)\n",
        "\n",
        "train_ds = train_ds.map(tokenize_fn, batched=True)\n",
        "val_ds = val_ds.map(tokenize_fn, batched=True)\n",
        "test_ds = test_ds.map(tokenize_fn, batched=True)\n"
      ],
      "metadata": {
        "colab": {
          "base_uri": "https://localhost:8080/",
          "height": 17,
          "referenced_widgets": [
            "36e0e5359830481db8d9260d1de6ec1d",
            "225bed6651a54a3f94d32175dcc265fa",
            "ca5410e42e7d4d439ff37233bcc85a40",
            "a1d487b8c4f24bfaac4d89d1426bdf1b",
            "b17e826efa884855b0cd39ad7dffe6cd",
            "2c23da99214f454f8676e5ca17bea9e9",
            "d135c23e82bc444f9e8d7973108467dc",
            "aeb37c9d834747df8a34120596def99d",
            "b18c0cf8df384ca1b1807b6a1c5c82b0",
            "c6f9f9ef02bb47d7a0190630583ef57a",
            "92e4616bbc8b49119043ddb0716ab3ff",
            "132b383b05f04fc08727b7f47cc820ac",
            "41d1affcaa7f4898a7050243cdd55442",
            "48df61a262fd4d618d3d78c1777125fd",
            "d5e796ec92b140f295cb1e8b40041cfc",
            "57814e0bfea54d609cc9c906bb8224f4",
            "ef6ad019a38a4a1c861e8617e346e753",
            "c8bde02a7a9247d8b0b21764a9ccbe48",
            "c04f062522194d48aadbe0d898d75ad8",
            "ae7eb03cd7ea44f7b680b47333dc97b9",
            "fc2dd1a5240442edbeb0c105562fabb8",
            "ef0506c2139445b0a3f133b0b58b8185",
            "5d7aa9d18f1f461dbe8c8b43036b103b",
            "4b7c7474fb8e4cb2a244dbea29951f67",
            "1e572aeb99674a7095172800fffe7035",
            "d077d4c0847a4c62845583c42fd9c557",
            "0fa831b3e8af4b5ba3a91fdb7409adb9",
            "5874f7f80faf4d4789a613fab9ec53ed",
            "a201391231ef4cd4bb2b131489286615",
            "405cf3e842b746578e81e977f386c03f",
            "37d8de1d5df54bef8e6c88396b5b9329",
            "797c76f4b4794ec4ad530f844ed29a86",
            "0f1cb2c58cc546028acee92294546d4d",
            ""
          ]
        },
        "id": "Oy9QsVGHnqfb",
        "outputId": "b88e9844-a395-46b3-b76a-5886c0ce2458",
        "trusted": true,
        "execution": {
          "iopub.status.busy": "2025-09-18T13:01:44.115630Z",
          "iopub.execute_input": "2025-09-18T13:01:44.115957Z",
          "iopub.status.idle": "2025-09-18T13:05:00.048534Z",
          "shell.execute_reply.started": "2025-09-18T13:01:44.115936Z",
          "shell.execute_reply": "2025-09-18T13:05:00.047798Z"
        }
      },
      "outputs": [
        {
          "output_type": "display_data",
          "data": {
            "text/plain": "Map:   0%|          | 0/35918 [00:00<?, ? examples/s]",
            "application/vnd.jupyter.widget-view+json": {
              "version_major": 2,
              "version_minor": 0,
              "model_id": ""
            }
          },
          "metadata": {}
        },
        {
          "output_type": "display_data",
          "data": {
            "text/plain": "Map:   0%|          | 0/4490 [00:00<?, ? examples/s]",
            "application/vnd.jupyter.widget-view+json": {
              "version_major": 2,
              "version_minor": 0,
              "model_id": ""
            }
          },
          "metadata": {}
        },
        {
          "output_type": "display_data",
          "data": {
            "text/plain": "Map:   0%|          | 0/4490 [00:00<?, ? examples/s]",
            "application/vnd.jupyter.widget-view+json": {
              "version_major": 2,
              "version_minor": 0,
              "model_id": ""
            }
          },
          "metadata": {}
        }
      ],
      "execution_count": null
    },
    {
      "cell_type": "code",
      "source": [
        "train_ds.set_format(type=\"torch\", columns=[\"input_ids\", \"attention_mask\", \"label\"])\n",
        "val_ds.set_format(type=\"torch\", columns=[\"input_ids\", \"attention_mask\", \"label\"])\n",
        "test_ds.set_format(type=\"torch\", columns=[\"input_ids\", \"attention_mask\", \"label\"])\n"
      ],
      "metadata": {
        "id": "rktuYqlknzyO",
        "trusted": true,
        "execution": {
          "iopub.status.busy": "2025-09-18T13:05:08.094600Z",
          "iopub.execute_input": "2025-09-18T13:05:08.095215Z",
          "iopub.status.idle": "2025-09-18T13:05:12.488209Z",
          "shell.execute_reply.started": "2025-09-18T13:05:08.095190Z",
          "shell.execute_reply": "2025-09-18T13:05:12.487654Z"
        }
      },
      "outputs": [],
      "execution_count": null
    },
    {
      "cell_type": "markdown",
      "source": [
        "# ***Train mBERT Using Trainer***"
      ],
      "metadata": {
        "id": "cr2_eVpqn6Dl"
      }
    },
    {
      "cell_type": "code",
      "source": [
        "import os\n",
        "import warnings\n",
        "warnings.filterwarnings(\"ignore\", message=\"Unable to avoid copy*\")\n",
        "os.environ[\"WANDB_DISABLED\"] = \"true\"\n",
        "\n",
        "from transformers import BertForSequenceClassification, Trainer, TrainingArguments, DataCollatorWithPadding\n",
        "from sklearn.metrics import accuracy_score, precision_recall_fscore_support\n"
      ],
      "metadata": {
        "id": "Oy3Q4tv3n3wa",
        "trusted": true,
        "execution": {
          "iopub.status.busy": "2025-09-18T13:05:16.977658Z",
          "iopub.execute_input": "2025-09-18T13:05:16.978376Z",
          "iopub.status.idle": "2025-09-18T13:05:29.866465Z",
          "shell.execute_reply.started": "2025-09-18T13:05:16.978354Z",
          "shell.execute_reply": "2025-09-18T13:05:29.865926Z"
        },
        "outputId": "f680230c-b5b8-46d4-f149-eeb4b5899661"
      },
      "outputs": [
        {
          "name": "stderr",
          "text": "2025-09-18 13:05:19.386319: E external/local_xla/xla/stream_executor/cuda/cuda_fft.cc:477] Unable to register cuFFT factory: Attempting to register factory for plugin cuFFT when one has already been registered\nWARNING: All log messages before absl::InitializeLog() is called are written to STDERR\nE0000 00:00:1758200719.594518      36 cuda_dnn.cc:8310] Unable to register cuDNN factory: Attempting to register factory for plugin cuDNN when one has already been registered\nE0000 00:00:1758200719.658125      36 cuda_blas.cc:1418] Unable to register cuBLAS factory: Attempting to register factory for plugin cuBLAS when one has already been registered\n",
          "output_type": "stream"
        }
      ],
      "execution_count": null
    },
    {
      "cell_type": "markdown",
      "source": [
        "# ***Load Model & Define Metrics***"
      ],
      "metadata": {
        "id": "BJRLduO1Xc7F"
      }
    },
    {
      "cell_type": "code",
      "source": [
        "model = BertForSequenceClassification.from_pretrained(\"bert-base-multilingual-cased\", num_labels=3)"
      ],
      "metadata": {
        "colab": {
          "base_uri": "https://localhost:8080/",
          "height": 190,
          "referenced_widgets": [
            "579a050988b241ce8e80e830930edc87",
            "44b3669701b84c709fb4590b31c041ab",
            "0aa26e85f3044341b2485d0e55567edd",
            "ba0cf62a2c1742fc9b839aa3aefa88f9",
            "eebef5c36b80457180d84acbf5352d42",
            "6ef909bdd88346ee88c5e76d8ae6aebf",
            "ab8a71a387c14f69897e92cf0ca867ef",
            "05ce6d714f464ca187b8f40f8193ca77",
            "b25a0b08e0af43fb9dce46dd92365ba9",
            "7f949e7887314f408d044b2a3af89ee5",
            "14d96ea6112c4857bd22687c76c91cb6",
            "ba490d5114284b8a82d4e634b50540d2"
          ]
        },
        "id": "g_yrprsooA5s",
        "outputId": "41eec135-634e-4df1-c3b1-6947ce202d6b",
        "trusted": true,
        "execution": {
          "iopub.status.busy": "2025-09-18T13:05:34.951268Z",
          "iopub.execute_input": "2025-09-18T13:05:34.951878Z",
          "iopub.status.idle": "2025-09-18T13:05:40.127426Z",
          "shell.execute_reply.started": "2025-09-18T13:05:34.951855Z",
          "shell.execute_reply": "2025-09-18T13:05:40.126721Z"
        }
      },
      "outputs": [
        {
          "name": "stderr",
          "text": "/usr/local/lib/python3.11/dist-packages/huggingface_hub/file_download.py:943: FutureWarning: `resume_download` is deprecated and will be removed in version 1.0.0. Downloads always resume when possible. If you want to force a new download, use `force_download=True`.\n  warnings.warn(\n",
          "output_type": "stream"
        },
        {
          "output_type": "display_data",
          "data": {
            "text/plain": "model.safetensors:   0%|          | 0.00/714M [00:00<?, ?B/s]",
            "application/vnd.jupyter.widget-view+json": {
              "version_major": 2,
              "version_minor": 0,
              "model_id": "ba490d5114284b8a82d4e634b50540d2"
            }
          },
          "metadata": {}
        },
        {
          "name": "stderr",
          "text": "Some weights of the model checkpoint at bert-base-multilingual-cased were not used when initializing BertForSequenceClassification: ['cls.predictions.transform.dense.bias', 'cls.seq_relationship.weight', 'cls.seq_relationship.bias', 'cls.predictions.transform.LayerNorm.bias', 'cls.predictions.bias', 'cls.predictions.transform.LayerNorm.weight', 'cls.predictions.transform.dense.weight']\n- This IS expected if you are initializing BertForSequenceClassification from the checkpoint of a model trained on another task or with another architecture (e.g. initializing a BertForSequenceClassification model from a BertForPreTraining model).\n- This IS NOT expected if you are initializing BertForSequenceClassification from the checkpoint of a model that you expect to be exactly identical (initializing a BertForSequenceClassification model from a BertForSequenceClassification model).\nSome weights of BertForSequenceClassification were not initialized from the model checkpoint at bert-base-multilingual-cased and are newly initialized: ['classifier.weight', 'classifier.bias']\nYou should probably TRAIN this model on a down-stream task to be able to use it for predictions and inference.\n",
          "output_type": "stream"
        }
      ],
      "execution_count": null
    },
    {
      "cell_type": "code",
      "source": [
        "def compute_metrics(eval_pred):\n",
        "    logits, labels = eval_pred\n",
        "    predictions = logits.argmax(axis=1)\n",
        "    precision, recall, f1, _ = precision_recall_fscore_support(labels, predictions, average='macro')\n",
        "    acc = accuracy_score(labels, predictions)\n",
        "    return {\n",
        "        \"accuracy\": acc,\n",
        "        \"precision\": precision,\n",
        "        \"recall\": recall,\n",
        "        \"f1\": f1\n",
        "    }"
      ],
      "metadata": {
        "id": "6VCtXQTOoJLF",
        "trusted": true,
        "execution": {
          "iopub.status.busy": "2025-09-18T13:05:45.721072Z",
          "iopub.execute_input": "2025-09-18T13:05:45.721618Z",
          "iopub.status.idle": "2025-09-18T13:05:45.726068Z",
          "shell.execute_reply.started": "2025-09-18T13:05:45.721594Z",
          "shell.execute_reply": "2025-09-18T13:05:45.725304Z"
        }
      },
      "outputs": [],
      "execution_count": null
    },
    {
      "cell_type": "code",
      "source": [
        "from transformers import TrainingArguments\n",
        "\n",
        "training_args = TrainingArguments(\n",
        "    output_dir=\"./results\",\n",
        "    do_train=True,\n",
        "    do_eval=True,\n",
        "    evaluation_strategy=\"epoch\",           # evaluate every epoch ✅\n",
        "    save_strategy=\"epoch\",                 # save every epoch ✅\n",
        "    learning_rate=2e-5,\n",
        "    per_device_train_batch_size=16,\n",
        "    per_device_eval_batch_size=16,\n",
        "    num_train_epochs=5,\n",
        "    weight_decay=0.01,\n",
        "    logging_dir=\"./logs\",\n",
        "    load_best_model_at_end=True,          # works now\n",
        "    metric_for_best_model=\"f1\"\n",
        ")\n"
      ],
      "metadata": {
        "colab": {
          "base_uri": "https://localhost:8080/"
        },
        "id": "kq6hv2PWoMuI",
        "outputId": "f03522d6-18e3-4139-e2d6-5c63b30da014",
        "trusted": true,
        "execution": {
          "iopub.status.busy": "2025-09-18T13:15:09.335743Z",
          "iopub.execute_input": "2025-09-18T13:15:09.336455Z",
          "iopub.status.idle": "2025-09-18T13:15:09.342998Z",
          "shell.execute_reply.started": "2025-09-18T13:15:09.336430Z",
          "shell.execute_reply": "2025-09-18T13:15:09.342425Z"
        }
      },
      "outputs": [
        {
          "name": "stderr",
          "text": "Using the `WANDB_DISABLED` environment variable is deprecated and will be removed in v5. Use the --report_to flag to control the integrations used for logging result (for instance --report_to none).\n",
          "output_type": "stream"
        }
      ],
      "execution_count": null
    },
    {
      "cell_type": "code",
      "source": [
        "data_collator = DataCollatorWithPadding(tokenizer=tokenizer)\n",
        "\n",
        "trainer = Trainer(\n",
        "    model=model,\n",
        "    args=training_args,\n",
        "    train_dataset=train_ds,\n",
        "    eval_dataset=val_ds,\n",
        "    tokenizer=tokenizer,\n",
        "    data_collator=data_collator,\n",
        "    compute_metrics=compute_metrics,\n",
        ")\n"
      ],
      "metadata": {
        "id": "0k8SRKe7oQWm",
        "trusted": true,
        "execution": {
          "iopub.status.busy": "2025-09-18T13:15:13.968231Z",
          "iopub.execute_input": "2025-09-18T13:15:13.968499Z",
          "iopub.status.idle": "2025-09-18T13:15:13.978203Z",
          "shell.execute_reply.started": "2025-09-18T13:15:13.968480Z",
          "shell.execute_reply": "2025-09-18T13:15:13.977443Z"
        }
      },
      "outputs": [],
      "execution_count": null
    },
    {
      "cell_type": "code",
      "source": [
        "trainer.train()\n"
      ],
      "metadata": {
        "colab": {
          "base_uri": "https://localhost:8080/",
          "height": 276
        },
        "id": "mU2i497qoUji",
        "outputId": "e71fcd41-5daa-44b4-a77f-df3021ef0b18",
        "trusted": true,
        "execution": {
          "iopub.status.busy": "2025-09-18T13:15:19.584155Z",
          "iopub.execute_input": "2025-09-18T13:15:19.584860Z",
          "iopub.status.idle": "2025-09-18T14:11:09.686318Z",
          "shell.execute_reply.started": "2025-09-18T13:15:19.584835Z",
          "shell.execute_reply": "2025-09-18T14:11:09.685729Z"
        }
      },
      "outputs": [
        {
          "output_type": "display_data",
          "data": {
            "text/plain": "<IPython.core.display.HTML object>",
            "text/html": "\n    <div>\n      \n      <progress value='5615' max='5615' style='width:300px; height:20px; vertical-align: middle;'></progress>\n      [5615/5615 55:49, Epoch 5/5]\n    </div>\n    <table border=\"1\" class=\"dataframe\">\n  <thead>\n <tr style=\"text-align: left;\">\n      <th>Epoch</th>\n      <th>Training Loss</th>\n      <th>Validation Loss</th>\n      <th>Accuracy</th>\n      <th>Precision</th>\n      <th>Recall</th>\n      <th>F1</th>\n    </tr>\n  </thead>\n  <tbody>\n    <tr>\n      <td>1</td>\n      <td>0.002700</td>\n      <td>0.000200</td>\n      <td>1.000000</td>\n      <td>1.000000</td>\n      <td>1.000000</td>\n      <td>1.000000</td>\n    </tr>\n    <tr>\n      <td>2</td>\n      <td>0.002000</td>\n      <td>0.000014</td>\n      <td>1.000000</td>\n      <td>1.000000</td>\n      <td>1.000000</td>\n      <td>1.000000</td>\n    </tr>\n    <tr>\n      <td>3</td>\n      <td>0.000000</td>\n      <td>0.000012</td>\n      <td>1.000000</td>\n      <td>1.000000</td>\n      <td>1.000000</td>\n      <td>1.000000</td>\n    </tr>\n    <tr>\n      <td>4</td>\n      <td>0.000600</td>\n      <td>0.000010</td>\n      <td>1.000000</td>\n      <td>1.000000</td>\n      <td>1.000000</td>\n      <td>1.000000</td>\n    </tr>\n    <tr>\n      <td>5</td>\n      <td>0.000500</td>\n      <td>0.000011</td>\n      <td>1.000000</td>\n      <td>1.000000</td>\n      <td>1.000000</td>\n      <td>1.000000</td>\n    </tr>\n  </tbody>\n</table><p>"
          },
          "metadata": {}
        },
        {
          "name": "stderr",
          "text": "/usr/local/lib/python3.11/dist-packages/torch/nn/parallel/_functions.py:70: UserWarning: Was asked to gather along dimension 0, but all input tensors were scalars; will instead unsqueeze and return a vector.\n  warnings.warn(\n/usr/local/lib/python3.11/dist-packages/torch/nn/parallel/_functions.py:70: UserWarning: Was asked to gather along dimension 0, but all input tensors were scalars; will instead unsqueeze and return a vector.\n  warnings.warn(\n/usr/local/lib/python3.11/dist-packages/torch/nn/parallel/_functions.py:70: UserWarning: Was asked to gather along dimension 0, but all input tensors were scalars; will instead unsqueeze and return a vector.\n  warnings.warn(\n/usr/local/lib/python3.11/dist-packages/torch/nn/parallel/_functions.py:70: UserWarning: Was asked to gather along dimension 0, but all input tensors were scalars; will instead unsqueeze and return a vector.\n  warnings.warn(\n",
          "output_type": "stream"
        },
        {
          "execution_count": 26,
          "output_type": "execute_result",
          "data": {
            "text/plain": "TrainOutput(global_step=5615, training_loss=0.0012152042450550827, metrics={'train_runtime': 3350.077, 'train_samples_per_second': 53.608, 'train_steps_per_second': 1.676, 'total_flos': 1.181313467244288e+16, 'train_loss': 0.0012152042450550827, 'epoch': 5.0})"
          },
          "metadata": {}
        }
      ],
      "execution_count": null
    },
    {
      "cell_type": "code",
      "source": [
        "save_path = \"/kaggle/working/fake_news_xlmroberta_model\"\n",
        "\n",
        "# Save model + tokenizer\n",
        "model.save_pretrained(save_path)\n",
        "tokenizer.save_pretrained(save_path)\n",
        "\n",
        "print(\"✅ Model saved to:\", save_path)"
      ],
      "metadata": {
        "trusted": true,
        "id": "hGEx3Odkyi_a"
      },
      "outputs": [],
      "execution_count": null
    },
    {
      "cell_type": "markdown",
      "source": [
        "# ***Results***"
      ],
      "metadata": {
        "id": "UbaaXBfYT7O3"
      }
    },
    {
      "cell_type": "markdown",
      "source": [
        "# ***1. Predictions on Train DataSet***\n"
      ],
      "metadata": {
        "id": "WIeWsDNFyi_a"
      }
    },
    {
      "cell_type": "code",
      "source": [
        "from sklearn.metrics import classification_report, confusion_matrix, ConfusionMatrixDisplay\n",
        "import matplotlib.pyplot as plt\n",
        "import numpy as np\n",
        "\n",
        "predictions = trainer.predict(train_ds)\n",
        "x_true = predictions.label_ids\n",
        "x_pred = np.argmax(predictions.predictions, axis=1)"
      ],
      "metadata": {
        "trusted": true,
        "execution": {
          "iopub.status.busy": "2025-09-18T14:14:32.459344Z",
          "iopub.execute_input": "2025-09-18T14:14:32.459995Z",
          "iopub.status.idle": "2025-09-18T14:18:13.704320Z",
          "shell.execute_reply.started": "2025-09-18T14:14:32.459973Z",
          "shell.execute_reply": "2025-09-18T14:18:13.703623Z"
        },
        "id": "tzilw_Btyi_a",
        "outputId": "54205a9f-308f-458d-edf7-840e530adb40"
      },
      "outputs": [
        {
          "name": "stderr",
          "text": "/usr/local/lib/python3.11/dist-packages/torch/nn/parallel/_functions.py:70: UserWarning: Was asked to gather along dimension 0, but all input tensors were scalars; will instead unsqueeze and return a vector.\n  warnings.warn(\n",
          "output_type": "stream"
        },
        {
          "output_type": "display_data",
          "data": {
            "text/plain": "<IPython.core.display.HTML object>",
            "text/html": ""
          },
          "metadata": {}
        }
      ],
      "execution_count": null
    },
    {
      "cell_type": "code",
      "source": [
        "cm = confusion_matrix(x_true, x_pred)\n",
        "disp = ConfusionMatrixDisplay(confusion_matrix=cm, display_labels=[\"Fake\", \"Real\"])\n",
        "disp.plot(cmap=\"Blues\", values_format=\"d\")\n",
        "plt.title(\"Confusion Matrix\")\n",
        "plt.show()"
      ],
      "metadata": {
        "trusted": true,
        "execution": {
          "iopub.status.busy": "2025-09-18T14:18:41.499217Z",
          "iopub.execute_input": "2025-09-18T14:18:41.499966Z",
          "iopub.status.idle": "2025-09-18T14:18:41.852560Z",
          "shell.execute_reply.started": "2025-09-18T14:18:41.499942Z",
          "shell.execute_reply": "2025-09-18T14:18:41.851005Z"
        },
        "id": "bk-6PBO5yi_b",
        "outputId": "9a840d61-2d7e-432a-af96-2fe29c282318"
      },
      "outputs": [
        {
          "output_type": "display_data",
          "data": {
            "text/plain": "<Figure size 640x480 with 2 Axes>",
            "image/png": "[encoded data removed]"
          },
          "metadata": {}
        }
      ],
      "execution_count": null
    },
    {
      "cell_type": "code",
      "source": [
        "print(\"Classification Report:\")\n",
        "print(classification_report(x_true, x_pred, target_names=[\"Fake\", \"Real\"]))"
      ],
      "metadata": {
        "trusted": true,
        "execution": {
          "iopub.status.busy": "2025-09-18T14:19:13.277553Z",
          "iopub.execute_input": "2025-09-18T14:19:13.277909Z",
          "iopub.status.idle": "2025-09-18T14:19:13.302209Z",
          "shell.execute_reply.started": "2025-09-18T14:19:13.277888Z",
          "shell.execute_reply": "2025-09-18T14:19:13.301309Z"
        },
        "id": "wlw2gHfZyi_b",
        "outputId": "1ffa7976-6d3a-4a71-e2e1-6438d1e2cb83"
      },
      "outputs": [
        {
          "name": "stdout",
          "text": "Classification Report:\n              precision    recall  f1-score   support\n\n        Fake       1.00      1.00      1.00     18812\n        Real       1.00      1.00      1.00     17106\n\n    accuracy                           1.00     35918\n   macro avg       1.00      1.00      1.00     35918\nweighted avg       1.00      1.00      1.00     35918\n\n",
          "output_type": "stream"
        }
      ],
      "execution_count": null
    },
    {
      "cell_type": "markdown",
      "source": [
        "# **Test_Data**"
      ],
      "metadata": {
        "id": "m4XL0qr2yi_b"
      }
    },
    {
      "cell_type": "code",
      "source": [
        "from sklearn.metrics import classification_report, confusion_matrix, ConfusionMatrixDisplay\n",
        "import matplotlib.pyplot as plt\n",
        "import numpy as np\n",
        "\n",
        "predictions = trainer.predict(test_ds)\n",
        "y_true = predictions.label_ids\n",
        "y_pred = np.argmax(predictions.predictions, axis=1)"
      ],
      "metadata": {
        "trusted": true,
        "execution": {
          "iopub.status.busy": "2025-09-18T14:19:29.578636Z",
          "iopub.execute_input": "2025-09-18T14:19:29.579200Z",
          "iopub.status.idle": "2025-09-18T14:19:58.183817Z",
          "shell.execute_reply.started": "2025-09-18T14:19:29.579175Z",
          "shell.execute_reply": "2025-09-18T14:19:58.183293Z"
        },
        "id": "75drBSvMyi_b",
        "outputId": "dfce6cb0-8c15-4c90-b705-656fa223b054"
      },
      "outputs": [
        {
          "name": "stderr",
          "text": "/usr/local/lib/python3.11/dist-packages/torch/nn/parallel/_functions.py:70: UserWarning: Was asked to gather along dimension 0, but all input tensors were scalars; will instead unsqueeze and return a vector.\n  warnings.warn(\n",
          "output_type": "stream"
        },
        {
          "output_type": "display_data",
          "data": {
            "text/plain": "<IPython.core.display.HTML object>",
            "text/html": ""
          },
          "metadata": {}
        }
      ],
      "execution_count": null
    },
    {
      "cell_type": "code",
      "source": [
        "cm = confusion_matrix(y_true, y_pred)\n",
        "disp = ConfusionMatrixDisplay(confusion_matrix=cm, display_labels=[\"Fake\", \"Real\"])\n",
        "disp.plot(cmap=\"Blues\", values_format=\"d\")\n",
        "plt.title(\"Confusion Matrix\")\n",
        "plt.show()"
      ],
      "metadata": {
        "trusted": true,
        "execution": {
          "iopub.status.busy": "2025-09-18T14:20:23.650801Z",
          "iopub.execute_input": "2025-09-18T14:20:23.650997Z",
          "iopub.status.idle": "2025-09-18T14:20:23.783875Z",
          "shell.execute_reply.started": "2025-09-18T14:20:23.650981Z",
          "shell.execute_reply": "2025-09-18T14:20:23.783245Z"
        },
        "id": "jg5fMvk-yi_b",
        "outputId": "faee6e57-3e6c-4b50-cc79-1e0c125cd9ce"
      },
      "outputs": [
        {
          "output_type": "display_data",
          "data": {
            "text/plain": "<Figure size 640x480 with 2 Axes>",
            "image/png": "[encoded data removed]"
          },
          "metadata": {}
        }
      ],
      "execution_count": null
    },
    {
      "cell_type": "code",
      "source": [
        "print(\"Classification Report:\")\n",
        "print(classification_report(y_true, y_pred, target_names=[\"Fake\", \"Real\"]))"
      ],
      "metadata": {
        "trusted": true,
        "execution": {
          "iopub.status.busy": "2025-09-18T14:20:36.599017Z",
          "iopub.execute_input": "2025-09-18T14:20:36.599708Z",
          "iopub.status.idle": "2025-09-18T14:20:36.613803Z",
          "shell.execute_reply.started": "2025-09-18T14:20:36.599662Z",
          "shell.execute_reply": "2025-09-18T14:20:36.613130Z"
        },
        "id": "uO_SPqmWyi_b",
        "outputId": "213a3170-0e14-41a7-affb-1b4a34d92a2f"
      },
      "outputs": [
        {
          "name": "stdout",
          "text": "Classification Report:\n              precision    recall  f1-score   support\n\n        Fake       1.00      1.00      1.00      2329\n        Real       1.00      1.00      1.00      2161\n\n    accuracy                           1.00      4490\n   macro avg       1.00      1.00      1.00      4490\nweighted avg       1.00      1.00      1.00      4490\n\n",
          "output_type": "stream"
        }
      ],
      "execution_count": null
    },
    {
      "cell_type": "markdown",
      "source": [
        "# ***2. ROC Curve & AUC***"
      ],
      "metadata": {
        "id": "oXSxsiKQyi_b"
      }
    },
    {
      "cell_type": "code",
      "source": [
        "from sklearn.metrics import roc_curve, auc\n",
        "\n",
        "y_probs = predictions.predictions[:,1]  # probability for \"Real\" class\n",
        "fpr, tpr, _ = roc_curve(y_true, y_probs)\n",
        "roc_auc = auc(fpr, tpr)\n",
        "\n",
        "plt.figure()\n",
        "plt.plot(fpr, tpr, label=f\"AUC = {roc_auc:.2f}\")\n",
        "plt.plot([0,1],[0,1], \"k--\")  # diagonal\n",
        "plt.xlabel(\"False Positive Rate\")\n",
        "plt.ylabel(\"True Positive Rate\")\n",
        "plt.title(\"ROC Curve\")\n",
        "plt.legend()\n",
        "plt.show()"
      ],
      "metadata": {
        "trusted": true,
        "execution": {
          "iopub.status.busy": "2025-09-18T14:23:35.928840Z",
          "iopub.execute_input": "2025-09-18T14:23:35.929387Z",
          "iopub.status.idle": "2025-09-18T14:23:36.083815Z",
          "shell.execute_reply.started": "2025-09-18T14:23:35.929367Z",
          "shell.execute_reply": "2025-09-18T14:23:36.083167Z"
        },
        "id": "gJQXIy9eyi_c",
        "outputId": "fba95b73-f8bf-49c8-df7c-dcfe1a446a36"
      },
      "outputs": [
        {
          "output_type": "display_data",
          "data": {
            "text/plain": "<Figure size 640x480 with 1 Axes>",
            "image/png": "[encoded data removed]"
          },
          "metadata": {}
        }
      ],
      "execution_count": null
    },
    {
      "cell_type": "markdown",
      "source": [
        "# ***3. Precision-Recall Curve***"
      ],
      "metadata": {
        "id": "Iquh3dEYyi_c"
      }
    },
    {
      "cell_type": "code",
      "source": [
        "from sklearn.metrics import precision_recall_curve\n",
        "\n",
        "prec, rec, _ = precision_recall_curve(y_true, y_probs)\n",
        "\n",
        "plt.figure()\n",
        "plt.plot(rec, prec, label=\"Precision-Recall Curve\")\n",
        "plt.xlabel(\"Recall\")\n",
        "plt.ylabel(\"Precision\")\n",
        "plt.title(\"Precision-Recall Curve\")\n",
        "plt.legend()\n",
        "plt.show()"
      ],
      "metadata": {
        "trusted": true,
        "execution": {
          "iopub.status.busy": "2025-09-18T14:24:11.234095Z",
          "iopub.execute_input": "2025-09-18T14:24:11.234353Z",
          "iopub.status.idle": "2025-09-18T14:24:11.379966Z",
          "shell.execute_reply.started": "2025-09-18T14:24:11.234335Z",
          "shell.execute_reply": "2025-09-18T14:24:11.379341Z"
        },
        "id": "LwNdzdyUyi_c",
        "outputId": "e397d2d8-1600-478b-bbc5-e81393a54ec3"
      },
      "outputs": [
        {
          "output_type": "display_data",
          "data": {
            "text/plain": "<Figure size 640x480 with 1 Axes>",
            "image/png": "[encoded data removed]"
          },
          "metadata": {}
        }
      ],
      "execution_count": null
    },
    {
      "cell_type": "markdown",
      "source": [
        "# ***Learning curves (training vs validation loss / accuracy)***"
      ],
      "metadata": {
        "id": "aMbo-MZmyi_c"
      }
    },
    {
      "cell_type": "code",
      "source": [
        "import matplotlib.pyplot as plt\n",
        "import numpy as np\n",
        "\n",
        "# extract history (works if trainer logged eval and train losses)\n",
        "history = trainer.state.log_history  # list of dicts"
      ],
      "metadata": {
        "trusted": true,
        "execution": {
          "iopub.status.busy": "2025-09-18T14:24:44.085428Z",
          "iopub.execute_input": "2025-09-18T14:24:44.086364Z",
          "iopub.status.idle": "2025-09-18T14:24:44.089619Z",
          "shell.execute_reply.started": "2025-09-18T14:24:44.086338Z",
          "shell.execute_reply": "2025-09-18T14:24:44.089087Z"
        },
        "id": "4LvtBjuGyi_c"
      },
      "outputs": [],
      "execution_count": null
    },
    {
      "cell_type": "code",
      "source": [
        "# parse into per-epoch lists\n",
        "train_losses = []\n",
        "eval_losses = []\n",
        "eval_acc = []\n",
        "eval_prec = []\n",
        "eval_rec = []\n",
        "eval_f1 = []\n",
        "epochs = []\n",
        "\n",
        "for record in history:\n",
        "    # records include step, loss, eval_loss, epoch, eval_accuracy, etc.\n",
        "    if 'loss' in record and 'epoch' in record:\n",
        "        # training loss logged at steps; keep last per epoch\n",
        "        train_losses.append((record['epoch'], record['loss']))\n",
        "    if 'eval_loss' in record:\n",
        "        epochs.append(record.get('epoch', len(epochs)+1))\n",
        "        eval_losses.append(record['eval_loss'])\n",
        "        # optional metrics (if compute_metrics returns them)\n",
        "        eval_acc.append(record.get('eval_accuracy', np.nan))\n",
        "        eval_prec.append(record.get('eval_precision', np.nan))\n",
        "        eval_rec.append(record.get('eval_recall', np.nan))\n",
        "        eval_f1.append(record.get('eval_f1', np.nan))\n",
        "\n",
        "# Convert to arrays aligned by epoch\n",
        "# For training loss we take last loss value per epoch\n",
        "if train_losses:\n",
        "    # dict epoch->loss (keep last logged loss for each epoch)\n",
        "    ep_train = {}\n",
        "    for ep, loss in train_losses:\n",
        "        ep_train[ep] = loss\n",
        "    train_epochs = sorted(ep_train.keys())\n",
        "    train_loss_vals = [ep_train[e] for e in train_epochs]\n",
        "else:\n",
        "    train_epochs, train_loss_vals = [], []"
      ],
      "metadata": {
        "trusted": true,
        "execution": {
          "iopub.status.busy": "2025-09-18T14:24:56.546794Z",
          "iopub.execute_input": "2025-09-18T14:24:56.547257Z",
          "iopub.status.idle": "2025-09-18T14:24:56.553129Z",
          "shell.execute_reply.started": "2025-09-18T14:24:56.547233Z",
          "shell.execute_reply": "2025-09-18T14:24:56.552608Z"
        },
        "id": "gFhWUGUZyi_c"
      },
      "outputs": [],
      "execution_count": null
    },
    {
      "cell_type": "code",
      "source": [
        "# Plot losses\n",
        "plt.figure(figsize=(8,5))\n",
        "if train_loss_vals:\n",
        "    plt.plot(train_epochs, train_loss_vals, label='Train Loss', marker='o')\n",
        "if epochs:\n",
        "    plt.plot(epochs, eval_losses, label='Validation Loss', marker='o')\n",
        "plt.xlabel('Epoch')\n",
        "plt.ylabel('Loss')\n",
        "plt.title('Training vs Validation Loss')\n",
        "plt.legend()\n",
        "plt.grid(True)\n",
        "plt.show()"
      ],
      "metadata": {
        "trusted": true,
        "execution": {
          "iopub.status.busy": "2025-09-18T14:25:12.472260Z",
          "iopub.execute_input": "2025-09-18T14:25:12.472753Z",
          "iopub.status.idle": "2025-09-18T14:25:12.635629Z",
          "shell.execute_reply.started": "2025-09-18T14:25:12.472728Z",
          "shell.execute_reply": "2025-09-18T14:25:12.635012Z"
        },
        "id": "ph7zVBSEyi_d",
        "outputId": "ca36e5e4-f293-4639-8160-b60a679df3a8"
      },
      "outputs": [
        {
          "output_type": "display_data",
          "data": {
            "text/plain": "<Figure size 800x500 with 1 Axes>",
            "image/png": "[encoded data removed]"
          },
          "metadata": {}
        }
      ],
      "execution_count": null
    },
    {
      "cell_type": "code",
      "source": [
        "# Plot accuracy/F1 if available\n",
        "if any(np.isfinite(eval_acc)):\n",
        "    plt.figure(figsize=(8,5))\n",
        "    plt.plot(epochs, eval_acc, label='Val Accuracy', marker='o')\n",
        "    if any(np.isfinite(eval_f1)):\n",
        "        plt.plot(epochs, eval_f1, label='Val F1', marker='o')\n",
        "    plt.xlabel('Epoch')\n",
        "    plt.title('Validation Accuracy / F1 per Epoch')\n",
        "    plt.legend()\n",
        "    plt.grid(True)\n",
        "    plt.show()"
      ],
      "metadata": {
        "trusted": true,
        "execution": {
          "iopub.status.busy": "2025-09-18T14:25:34.886176Z",
          "iopub.execute_input": "2025-09-18T14:25:34.886434Z",
          "iopub.status.idle": "2025-09-18T14:25:35.048407Z",
          "shell.execute_reply.started": "2025-09-18T14:25:34.886415Z",
          "shell.execute_reply": "2025-09-18T14:25:35.047823Z"
        },
        "id": "mcNw5Ekmyi_g",
        "outputId": "6e1a0851-8e2f-4142-b1de-78652a46bd54"
      },
      "outputs": [
        {
          "output_type": "display_data",
          "data": {
            "text/plain": "<Figure size 800x500 with 1 Axes>",
            "image/png": "[encoded data removed]"
          },
          "metadata": {}
        }
      ],
      "execution_count": null
    },
    {
      "cell_type": "markdown",
      "source": [
        "# ***5-Fold Cross-Validation (Hugging Face Trainer)***"
      ],
      "metadata": {
        "id": "btLIy4Zwyi_g"
      }
    },
    {
      "cell_type": "code",
      "source": [
        "from sklearn.model_selection import KFold\n",
        "import pandas as pd\n",
        "import numpy as np\n",
        "import torch\n",
        "from transformers import AutoTokenizer, AutoModelForSequenceClassification, TrainingArguments, Trainer\n",
        "\n",
        "# Convert dataframe into lists\n",
        "texts = train_df['text'].tolist()\n",
        "labels = train_df['label'].tolist()\n",
        "\n",
        "print(\"Dataset size:\", len(texts))\n"
      ],
      "metadata": {
        "trusted": true,
        "execution": {
          "iopub.status.busy": "2025-09-18T15:07:33.704405Z",
          "iopub.execute_input": "2025-09-18T15:07:33.704699Z",
          "iopub.status.idle": "2025-09-18T15:07:33.712372Z",
          "shell.execute_reply.started": "2025-09-18T15:07:33.704661Z",
          "shell.execute_reply": "2025-09-18T15:07:33.711831Z"
        },
        "id": "RRxgcI49yi_h",
        "outputId": "76457f74-f234-44d8-8dc1-e404da807c66"
      },
      "outputs": [
        {
          "name": "stdout",
          "text": "Dataset size: 35918\n",
          "output_type": "stream"
        }
      ],
      "execution_count": null
    },
    {
      "cell_type": "code",
      "source": [
        "# Use 5 folds for cross-validation\n",
        "kf = KFold(n_splits=5, shuffle=True, random_state=42)\n",
        "\n",
        "# Debug: print sizes for each fold\n",
        "for fold, (train_idx, val_idx) in enumerate(kf.split(train_df), 1):\n",
        "    print(f\"Fold {fold}: Train size={len(train_idx)}, Val size={len(val_idx)}\")"
      ],
      "metadata": {
        "trusted": true,
        "execution": {
          "iopub.status.busy": "2025-09-18T15:07:37.791882Z",
          "iopub.execute_input": "2025-09-18T15:07:37.792142Z",
          "iopub.status.idle": "2025-09-18T15:07:37.800987Z",
          "shell.execute_reply.started": "2025-09-18T15:07:37.792123Z",
          "shell.execute_reply": "2025-09-18T15:07:37.800403Z"
        },
        "id": "xoOBQYqLyi_h",
        "outputId": "bf0940d4-b144-4047-b26d-51ce63a6669a"
      },
      "outputs": [
        {
          "name": "stdout",
          "text": "Fold 1: Train size=28734, Val size=7184\nFold 2: Train size=28734, Val size=7184\nFold 3: Train size=28734, Val size=7184\nFold 4: Train size=28735, Val size=7183\nFold 5: Train size=28735, Val size=7183\n",
          "output_type": "stream"
        }
      ],
      "execution_count": null
    },
    {
      "cell_type": "code",
      "source": [
        "# Pick model + tokenizer\n",
        "model_name = \"distilbert-base-multilingual-cased\"\n",
        "tokenizer = AutoTokenizer.from_pretrained(model_name)\n",
        "\n",
        "# Dataset wrapper\n",
        "class HFTextDataset(torch.utils.data.Dataset):\n",
        "    def __init__(self, texts, labels, tokenizer, max_length=256):\n",
        "        self.enc = tokenizer(texts, truncation=True, padding=\"max_length\", max_length=max_length)\n",
        "        self.labels = labels\n",
        "\n",
        "    def __len__(self):\n",
        "        return len(self.labels)\n",
        "\n",
        "    def __getitem__(self, idx):\n",
        "        item = {k: torch.tensor(v[idx]) for k, v in self.enc.items()}\n",
        "        item['labels'] = torch.tensor(self.labels[idx])\n",
        "        return item"
      ],
      "metadata": {
        "trusted": true,
        "execution": {
          "iopub.status.busy": "2025-09-18T15:07:41.184164Z",
          "iopub.execute_input": "2025-09-18T15:07:41.184422Z",
          "iopub.status.idle": "2025-09-18T15:07:41.437174Z",
          "shell.execute_reply.started": "2025-09-18T15:07:41.184402Z",
          "shell.execute_reply": "2025-09-18T15:07:41.436571Z"
        },
        "id": "n2Dorj4Cyi_h",
        "outputId": "a1a82317-2e5d-4eec-f085-91a41c2d0dd8"
      },
      "outputs": [
        {
          "name": "stderr",
          "text": "/usr/local/lib/python3.11/dist-packages/huggingface_hub/file_download.py:943: FutureWarning: `resume_download` is deprecated and will be removed in version 1.0.0. Downloads always resume when possible. If you want to force a new download, use `force_download=True`.\n  warnings.warn(\n",
          "output_type": "stream"
        }
      ],
      "execution_count": null
    },
    {
      "cell_type": "code",
      "source": [
        "fold_metrics = []  # to store results\n",
        "fold_idx = 1"
      ],
      "metadata": {
        "trusted": true,
        "execution": {
          "iopub.status.busy": "2025-09-18T15:07:44.959346Z",
          "iopub.execute_input": "2025-09-18T15:07:44.959961Z",
          "iopub.status.idle": "2025-09-18T15:07:44.963388Z",
          "shell.execute_reply.started": "2025-09-18T15:07:44.959937Z",
          "shell.execute_reply": "2025-09-18T15:07:44.962669Z"
        },
        "id": "Yt0PkGh2yi_h"
      },
      "outputs": [],
      "execution_count": null
    },
    {
      "cell_type": "code",
      "source": [
        "import numpy as np\n",
        "from sklearn.metrics import accuracy_score, precision_score, recall_score, f1_score\n",
        "\n",
        "def compute_metrics(eval_pred):\n",
        "    logits, labels = eval_pred\n",
        "    preds = np.argmax(logits, axis=-1)\n",
        "    return {\n",
        "        \"accuracy\": accuracy_score(labels, preds),\n",
        "        \"precision\": precision_score(labels, preds, average=\"weighted\", zero_division=0),\n",
        "        \"recall\": recall_score(labels, preds, average=\"weighted\", zero_division=0),\n",
        "        \"f1\": f1_score(labels, preds, average=\"weighted\", zero_division=0),\n",
        "    }\n",
        "\n",
        "\n",
        "for train_idx, val_idx in kf.split(texts):\n",
        "    print(f\"\\n=== Fold {fold_idx}/5 ===\")\n",
        "\n",
        "    # Split dataset\n",
        "    train_texts = [texts[i] for i in train_idx]\n",
        "    train_labels = [labels[i] for i in train_idx]\n",
        "    val_texts = [texts[i] for i in val_idx]\n",
        "    val_labels = [labels[i] for i in val_idx]\n",
        "\n",
        "    print(f\"Train size: {len(train_texts)}, Val size: {len(val_texts)}\")\n",
        "\n",
        "    # Build datasets\n",
        "    train_dataset = HFTextDataset(train_texts, train_labels, tokenizer)\n",
        "    val_dataset = HFTextDataset(val_texts, val_labels, tokenizer)\n",
        "\n",
        "    # Reload model fresh each fold\n",
        "    model = AutoModelForSequenceClassification.from_pretrained(model_name, num_labels=2)\n",
        "\n",
        "    # Training arguments\n",
        "    training_args = TrainingArguments(\n",
        "        output_dir=f\"./cv_results/fold_{fold_idx}\",\n",
        "        evaluation_strategy=\"epoch\",   # fixed: should be `evaluation_strategy`\n",
        "        save_strategy=\"no\",\n",
        "        learning_rate=2e-5,\n",
        "        per_device_train_batch_size=8,\n",
        "        per_device_eval_batch_size=16,\n",
        "        num_train_epochs=2,\n",
        "        weight_decay=0.01,\n",
        "        logging_dir=f\"./cv_logs/fold_{fold_idx}\",\n",
        "        report_to=\"none\"\n",
        "    )\n",
        "\n",
        "    # Trainer\n",
        "    trainer = Trainer(\n",
        "        model=model,\n",
        "        args=training_args,\n",
        "        train_dataset=train_dataset,\n",
        "        eval_dataset=val_dataset,\n",
        "        compute_metrics=compute_metrics\n",
        "    )\n",
        "\n",
        "    # Train + evaluate\n",
        "    trainer.train()\n",
        "    metrics = trainer.evaluate()\n",
        "\n",
        "    print(f\"Fold {fold_idx} metrics: {metrics}\")\n",
        "\n",
        "    # Save results\n",
        "    fold_metrics.append({\n",
        "        \"fold\": fold_idx,\n",
        "        \"accuracy\": metrics.get(\"eval_accuracy\", np.nan),\n",
        "        \"precision\": metrics.get(\"eval_precision\", np.nan),\n",
        "        \"recall\": metrics.get(\"eval_recall\", np.nan),\n",
        "        \"f1\": metrics.get(\"eval_f1\", np.nan)\n",
        "    })\n",
        "\n",
        "    fold_idx += 1\n"
      ],
      "metadata": {
        "trusted": true,
        "execution": {
          "iopub.status.busy": "2025-09-18T15:07:48.313759Z",
          "iopub.execute_input": "2025-09-18T15:07:48.314425Z",
          "iopub.status.idle": "2025-09-18T17:00:57.149021Z",
          "shell.execute_reply.started": "2025-09-18T15:07:48.314403Z",
          "shell.execute_reply": "2025-09-18T17:00:57.148228Z"
        },
        "id": "2kIFDQd8yi_h",
        "outputId": "d0745027-abc8-42b7-927e-4351e8acabf7"
      },
      "outputs": [
        {
          "name": "stdout",
          "text": "\n=== Fold 1/5 ===\nTrain size: 28734, Val size: 7184\n",
          "output_type": "stream"
        },
        {
          "name": "stderr",
          "text": "Some weights of the model checkpoint at distilbert-base-multilingual-cased were not used when initializing DistilBertForSequenceClassification: ['vocab_projector.bias', 'vocab_layer_norm.bias', 'vocab_transform.bias', 'vocab_layer_norm.weight', 'vocab_transform.weight']\n- This IS expected if you are initializing DistilBertForSequenceClassification from the checkpoint of a model trained on another task or with another architecture (e.g. initializing a BertForSequenceClassification model from a BertForPreTraining model).\n- This IS NOT expected if you are initializing DistilBertForSequenceClassification from the checkpoint of a model that you expect to be exactly identical (initializing a BertForSequenceClassification model from a BertForSequenceClassification model).\nSome weights of DistilBertForSequenceClassification were not initialized from the model checkpoint at distilbert-base-multilingual-cased and are newly initialized: ['pre_classifier.bias', 'classifier.weight', 'classifier.bias', 'pre_classifier.weight']\nYou should probably TRAIN this model on a down-stream task to be able to use it for predictions and inference.\n/usr/local/lib/python3.11/dist-packages/transformers/optimization.py:391: FutureWarning: This implementation of AdamW is deprecated and will be removed in a future version. Use the PyTorch implementation torch.optim.AdamW instead, or set `no_deprecation_warning=True` to disable this warning\n  warnings.warn(\n/usr/local/lib/python3.11/dist-packages/torch/nn/parallel/_functions.py:70: UserWarning: Was asked to gather along dimension 0, but all input tensors were scalars; will instead unsqueeze and return a vector.\n  warnings.warn(\n",
          "output_type": "stream"
        },
        {
          "output_type": "display_data",
          "data": {
            "text/plain": "<IPython.core.display.HTML object>",
            "text/html": "\n    <div>\n      \n      <progress value='3592' max='3592' style='width:300px; height:20px; vertical-align: middle;'></progress>\n      [3592/3592 21:34, Epoch 2/2]\n    </div>\n    <table border=\"1\" class=\"dataframe\">\n  <thead>\n <tr style=\"text-align: left;\">\n      <th>Epoch</th>\n      <th>Training Loss</th>\n      <th>Validation Loss</th>\n      <th>Accuracy</th>\n      <th>Precision</th>\n      <th>Recall</th>\n      <th>F1</th>\n    </tr>\n  </thead>\n  <tbody>\n    <tr>\n      <td>1</td>\n      <td>0.003300</td>\n      <td>0.001952</td>\n      <td>0.999443</td>\n      <td>0.999443</td>\n      <td>0.999443</td>\n      <td>0.999443</td>\n    </tr>\n    <tr>\n      <td>2</td>\n      <td>0.001300</td>\n      <td>0.003037</td>\n      <td>0.999582</td>\n      <td>0.999582</td>\n      <td>0.999582</td>\n      <td>0.999582</td>\n    </tr>\n  </tbody>\n</table><p>"
          },
          "metadata": {}
        },
        {
          "name": "stderr",
          "text": "/usr/local/lib/python3.11/dist-packages/torch/nn/parallel/_functions.py:70: UserWarning: Was asked to gather along dimension 0, but all input tensors were scalars; will instead unsqueeze and return a vector.\n  warnings.warn(\n/usr/local/lib/python3.11/dist-packages/torch/nn/parallel/_functions.py:70: UserWarning: Was asked to gather along dimension 0, but all input tensors were scalars; will instead unsqueeze and return a vector.\n  warnings.warn(\n",
          "output_type": "stream"
        },
        {
          "output_type": "display_data",
          "data": {
            "text/plain": "<IPython.core.display.HTML object>",
            "text/html": "\n    <div>\n      \n      <progress value='225' max='225' style='width:300px; height:20px; vertical-align: middle;'></progress>\n      [225/225 00:40]\n    </div>\n    "
          },
          "metadata": {}
        },
        {
          "name": "stdout",
          "text": "Fold 1 metrics: {'eval_loss': 0.003036864334717393, 'eval_accuracy': 0.9995824053452116, 'eval_precision': 0.9995824487946282, 'eval_recall': 0.9995824053452116, 'eval_f1': 0.9995824076711481, 'eval_runtime': 40.4772, 'eval_samples_per_second': 177.483, 'eval_steps_per_second': 5.559, 'epoch': 2.0}\n\n=== Fold 2/5 ===\nTrain size: 28734, Val size: 7184\n",
          "output_type": "stream"
        },
        {
          "name": "stderr",
          "text": "/usr/local/lib/python3.11/dist-packages/huggingface_hub/file_download.py:943: FutureWarning: `resume_download` is deprecated and will be removed in version 1.0.0. Downloads always resume when possible. If you want to force a new download, use `force_download=True`.\n  warnings.warn(\nSome weights of the model checkpoint at distilbert-base-multilingual-cased were not used when initializing DistilBertForSequenceClassification: ['vocab_projector.bias', 'vocab_layer_norm.bias', 'vocab_transform.bias', 'vocab_layer_norm.weight', 'vocab_transform.weight']\n- This IS expected if you are initializing DistilBertForSequenceClassification from the checkpoint of a model trained on another task or with another architecture (e.g. initializing a BertForSequenceClassification model from a BertForPreTraining model).\n- This IS NOT expected if you are initializing DistilBertForSequenceClassification from the checkpoint of a model that you expect to be exactly identical (initializing a BertForSequenceClassification model from a BertForSequenceClassification model).\nSome weights of DistilBertForSequenceClassification were not initialized from the model checkpoint at distilbert-base-multilingual-cased and are newly initialized: ['pre_classifier.bias', 'classifier.weight', 'classifier.bias', 'pre_classifier.weight']\nYou should probably TRAIN this model on a down-stream task to be able to use it for predictions and inference.\n/usr/local/lib/python3.11/dist-packages/transformers/optimization.py:391: FutureWarning: This implementation of AdamW is deprecated and will be removed in a future version. Use the PyTorch implementation torch.optim.AdamW instead, or set `no_deprecation_warning=True` to disable this warning\n  warnings.warn(\n/usr/local/lib/python3.11/dist-packages/torch/nn/parallel/_functions.py:70: UserWarning: Was asked to gather along dimension 0, but all input tensors were scalars; will instead unsqueeze and return a vector.\n  warnings.warn(\n",
          "output_type": "stream"
        },
        {
          "output_type": "display_data",
          "data": {
            "text/plain": "<IPython.core.display.HTML object>",
            "text/html": "\n    <div>\n      \n      <progress value='3592' max='3592' style='width:300px; height:20px; vertical-align: middle;'></progress>\n      [3592/3592 21:34, Epoch 2/2]\n    </div>\n    <table border=\"1\" class=\"dataframe\">\n  <thead>\n <tr style=\"text-align: left;\">\n      <th>Epoch</th>\n      <th>Training Loss</th>\n      <th>Validation Loss</th>\n      <th>Accuracy</th>\n      <th>Precision</th>\n      <th>Recall</th>\n      <th>F1</th>\n    </tr>\n  </thead>\n  <tbody>\n    <tr>\n      <td>1</td>\n      <td>0.000200</td>\n      <td>0.001043</td>\n      <td>0.999861</td>\n      <td>0.999861</td>\n      <td>0.999861</td>\n      <td>0.999861</td>\n    </tr>\n    <tr>\n      <td>2</td>\n      <td>0.000400</td>\n      <td>0.000530</td>\n      <td>0.999861</td>\n      <td>0.999861</td>\n      <td>0.999861</td>\n      <td>0.999861</td>\n    </tr>\n  </tbody>\n</table><p>"
          },
          "metadata": {}
        },
        {
          "name": "stderr",
          "text": "/usr/local/lib/python3.11/dist-packages/torch/nn/parallel/_functions.py:70: UserWarning: Was asked to gather along dimension 0, but all input tensors were scalars; will instead unsqueeze and return a vector.\n  warnings.warn(\n/usr/local/lib/python3.11/dist-packages/torch/nn/parallel/_functions.py:70: UserWarning: Was asked to gather along dimension 0, but all input tensors were scalars; will instead unsqueeze and return a vector.\n  warnings.warn(\n",
          "output_type": "stream"
        },
        {
          "output_type": "display_data",
          "data": {
            "text/plain": "<IPython.core.display.HTML object>",
            "text/html": "\n    <div>\n      \n      <progress value='225' max='225' style='width:300px; height:20px; vertical-align: middle;'></progress>\n      [225/225 00:39]\n    </div>\n    "
          },
          "metadata": {}
        },
        {
          "name": "stdout",
          "text": "Fold 2 metrics: {'eval_loss': 0.0005300865159370005, 'eval_accuracy': 0.9998608017817372, 'eval_precision': 0.9998608431728221, 'eval_recall': 0.9998608017817372, 'eval_f1': 0.9998608030247917, 'eval_runtime': 39.6577, 'eval_samples_per_second': 181.15, 'eval_steps_per_second': 5.674, 'epoch': 2.0}\n\n=== Fold 3/5 ===\nTrain size: 28734, Val size: 7184\n",
          "output_type": "stream"
        },
        {
          "name": "stderr",
          "text": "/usr/local/lib/python3.11/dist-packages/huggingface_hub/file_download.py:943: FutureWarning: `resume_download` is deprecated and will be removed in version 1.0.0. Downloads always resume when possible. If you want to force a new download, use `force_download=True`.\n  warnings.warn(\nSome weights of the model checkpoint at distilbert-base-multilingual-cased were not used when initializing DistilBertForSequenceClassification: ['vocab_projector.bias', 'vocab_layer_norm.bias', 'vocab_transform.bias', 'vocab_layer_norm.weight', 'vocab_transform.weight']\n- This IS expected if you are initializing DistilBertForSequenceClassification from the checkpoint of a model trained on another task or with another architecture (e.g. initializing a BertForSequenceClassification model from a BertForPreTraining model).\n- This IS NOT expected if you are initializing DistilBertForSequenceClassification from the checkpoint of a model that you expect to be exactly identical (initializing a BertForSequenceClassification model from a BertForSequenceClassification model).\nSome weights of DistilBertForSequenceClassification were not initialized from the model checkpoint at distilbert-base-multilingual-cased and are newly initialized: ['pre_classifier.bias', 'classifier.weight', 'classifier.bias', 'pre_classifier.weight']\nYou should probably TRAIN this model on a down-stream task to be able to use it for predictions and inference.\n/usr/local/lib/python3.11/dist-packages/transformers/optimization.py:391: FutureWarning: This implementation of AdamW is deprecated and will be removed in a future version. Use the PyTorch implementation torch.optim.AdamW instead, or set `no_deprecation_warning=True` to disable this warning\n  warnings.warn(\n/usr/local/lib/python3.11/dist-packages/torch/nn/parallel/_functions.py:70: UserWarning: Was asked to gather along dimension 0, but all input tensors were scalars; will instead unsqueeze and return a vector.\n  warnings.warn(\n",
          "output_type": "stream"
        },
        {
          "output_type": "display_data",
          "data": {
            "text/plain": "<IPython.core.display.HTML object>",
            "text/html": "\n    <div>\n      \n      <progress value='3592' max='3592' style='width:300px; height:20px; vertical-align: middle;'></progress>\n      [3592/3592 21:34, Epoch 2/2]\n    </div>\n    <table border=\"1\" class=\"dataframe\">\n  <thead>\n <tr style=\"text-align: left;\">\n      <th>Epoch</th>\n      <th>Training Loss</th>\n      <th>Validation Loss</th>\n      <th>Accuracy</th>\n      <th>Precision</th>\n      <th>Recall</th>\n      <th>F1</th>\n    </tr>\n  </thead>\n  <tbody>\n    <tr>\n      <td>1</td>\n      <td>0.005400</td>\n      <td>0.000858</td>\n      <td>0.999861</td>\n      <td>0.999861</td>\n      <td>0.999861</td>\n      <td>0.999861</td>\n    </tr>\n    <tr>\n      <td>2</td>\n      <td>0.001300</td>\n      <td>0.000941</td>\n      <td>0.999861</td>\n      <td>0.999861</td>\n      <td>0.999861</td>\n      <td>0.999861</td>\n    </tr>\n  </tbody>\n</table><p>"
          },
          "metadata": {}
        },
        {
          "name": "stderr",
          "text": "/usr/local/lib/python3.11/dist-packages/torch/nn/parallel/_functions.py:70: UserWarning: Was asked to gather along dimension 0, but all input tensors were scalars; will instead unsqueeze and return a vector.\n  warnings.warn(\n/usr/local/lib/python3.11/dist-packages/torch/nn/parallel/_functions.py:70: UserWarning: Was asked to gather along dimension 0, but all input tensors were scalars; will instead unsqueeze and return a vector.\n  warnings.warn(\n",
          "output_type": "stream"
        },
        {
          "output_type": "display_data",
          "data": {
            "text/plain": "<IPython.core.display.HTML object>",
            "text/html": "\n    <div>\n      \n      <progress value='225' max='225' style='width:300px; height:20px; vertical-align: middle;'></progress>\n      [225/225 00:39]\n    </div>\n    "
          },
          "metadata": {}
        },
        {
          "name": "stdout",
          "text": "Fold 3 metrics: {'eval_loss': 0.0009407295729033649, 'eval_accuracy': 0.9998608017817372, 'eval_precision': 0.9998608422581018, 'eval_recall': 0.9998608017817372, 'eval_f1': 0.9998608026112693, 'eval_runtime': 39.7143, 'eval_samples_per_second': 180.892, 'eval_steps_per_second': 5.665, 'epoch': 2.0}\n\n=== Fold 4/5 ===\nTrain size: 28735, Val size: 7183\n",
          "output_type": "stream"
        },
        {
          "name": "stderr",
          "text": "/usr/local/lib/python3.11/dist-packages/huggingface_hub/file_download.py:943: FutureWarning: `resume_download` is deprecated and will be removed in version 1.0.0. Downloads always resume when possible. If you want to force a new download, use `force_download=True`.\n  warnings.warn(\nSome weights of the model checkpoint at distilbert-base-multilingual-cased were not used when initializing DistilBertForSequenceClassification: ['vocab_projector.bias', 'vocab_layer_norm.bias', 'vocab_transform.bias', 'vocab_layer_norm.weight', 'vocab_transform.weight']\n- This IS expected if you are initializing DistilBertForSequenceClassification from the checkpoint of a model trained on another task or with another architecture (e.g. initializing a BertForSequenceClassification model from a BertForPreTraining model).\n- This IS NOT expected if you are initializing DistilBertForSequenceClassification from the checkpoint of a model that you expect to be exactly identical (initializing a BertForSequenceClassification model from a BertForSequenceClassification model).\nSome weights of DistilBertForSequenceClassification were not initialized from the model checkpoint at distilbert-base-multilingual-cased and are newly initialized: ['pre_classifier.bias', 'classifier.weight', 'classifier.bias', 'pre_classifier.weight']\nYou should probably TRAIN this model on a down-stream task to be able to use it for predictions and inference.\n/usr/local/lib/python3.11/dist-packages/transformers/optimization.py:391: FutureWarning: This implementation of AdamW is deprecated and will be removed in a future version. Use the PyTorch implementation torch.optim.AdamW instead, or set `no_deprecation_warning=True` to disable this warning\n  warnings.warn(\n/usr/local/lib/python3.11/dist-packages/torch/nn/parallel/_functions.py:70: UserWarning: Was asked to gather along dimension 0, but all input tensors were scalars; will instead unsqueeze and return a vector.\n  warnings.warn(\n",
          "output_type": "stream"
        },
        {
          "output_type": "display_data",
          "data": {
            "text/plain": "<IPython.core.display.HTML object>",
            "text/html": "\n    <div>\n      \n      <progress value='3592' max='3592' style='width:300px; height:20px; vertical-align: middle;'></progress>\n      [3592/3592 21:34, Epoch 2/2]\n    </div>\n    <table border=\"1\" class=\"dataframe\">\n  <thead>\n <tr style=\"text-align: left;\">\n      <th>Epoch</th>\n      <th>Training Loss</th>\n      <th>Validation Loss</th>\n      <th>Accuracy</th>\n      <th>Precision</th>\n      <th>Recall</th>\n      <th>F1</th>\n    </tr>\n  </thead>\n  <tbody>\n    <tr>\n      <td>1</td>\n      <td>0.000600</td>\n      <td>0.002710</td>\n      <td>0.999722</td>\n      <td>0.999722</td>\n      <td>0.999722</td>\n      <td>0.999722</td>\n    </tr>\n    <tr>\n      <td>2</td>\n      <td>0.000300</td>\n      <td>0.001882</td>\n      <td>0.999722</td>\n      <td>0.999722</td>\n      <td>0.999722</td>\n      <td>0.999722</td>\n    </tr>\n  </tbody>\n</table><p>"
          },
          "metadata": {}
        },
        {
          "name": "stderr",
          "text": "/usr/local/lib/python3.11/dist-packages/torch/nn/parallel/_functions.py:70: UserWarning: Was asked to gather along dimension 0, but all input tensors were scalars; will instead unsqueeze and return a vector.\n  warnings.warn(\n/usr/local/lib/python3.11/dist-packages/torch/nn/parallel/_functions.py:70: UserWarning: Was asked to gather along dimension 0, but all input tensors were scalars; will instead unsqueeze and return a vector.\n  warnings.warn(\n",
          "output_type": "stream"
        },
        {
          "output_type": "display_data",
          "data": {
            "text/plain": "<IPython.core.display.HTML object>",
            "text/html": "\n    <div>\n      \n      <progress value='225' max='225' style='width:300px; height:20px; vertical-align: middle;'></progress>\n      [225/225 00:39]\n    </div>\n    "
          },
          "metadata": {}
        },
        {
          "name": "stdout",
          "text": "Fold 4 metrics: {'eval_loss': 0.0018816154915839434, 'eval_accuracy': 0.9997215648057914, 'eval_precision': 0.999721714060787, 'eval_recall': 0.9997215648057914, 'eval_f1': 0.9997215618116764, 'eval_runtime': 39.6303, 'eval_samples_per_second': 181.25, 'eval_steps_per_second': 5.677, 'epoch': 2.0}\n\n=== Fold 5/5 ===\nTrain size: 28735, Val size: 7183\n",
          "output_type": "stream"
        },
        {
          "name": "stderr",
          "text": "/usr/local/lib/python3.11/dist-packages/huggingface_hub/file_download.py:943: FutureWarning: `resume_download` is deprecated and will be removed in version 1.0.0. Downloads always resume when possible. If you want to force a new download, use `force_download=True`.\n  warnings.warn(\nSome weights of the model checkpoint at distilbert-base-multilingual-cased were not used when initializing DistilBertForSequenceClassification: ['vocab_projector.bias', 'vocab_layer_norm.bias', 'vocab_transform.bias', 'vocab_layer_norm.weight', 'vocab_transform.weight']\n- This IS expected if you are initializing DistilBertForSequenceClassification from the checkpoint of a model trained on another task or with another architecture (e.g. initializing a BertForSequenceClassification model from a BertForPreTraining model).\n- This IS NOT expected if you are initializing DistilBertForSequenceClassification from the checkpoint of a model that you expect to be exactly identical (initializing a BertForSequenceClassification model from a BertForSequenceClassification model).\nSome weights of DistilBertForSequenceClassification were not initialized from the model checkpoint at distilbert-base-multilingual-cased and are newly initialized: ['pre_classifier.bias', 'classifier.weight', 'classifier.bias', 'pre_classifier.weight']\nYou should probably TRAIN this model on a down-stream task to be able to use it for predictions and inference.\n/usr/local/lib/python3.11/dist-packages/transformers/optimization.py:391: FutureWarning: This implementation of AdamW is deprecated and will be removed in a future version. Use the PyTorch implementation torch.optim.AdamW instead, or set `no_deprecation_warning=True` to disable this warning\n  warnings.warn(\n/usr/local/lib/python3.11/dist-packages/torch/nn/parallel/_functions.py:70: UserWarning: Was asked to gather along dimension 0, but all input tensors were scalars; will instead unsqueeze and return a vector.\n  warnings.warn(\n",
          "output_type": "stream"
        },
        {
          "output_type": "display_data",
          "data": {
            "text/plain": "<IPython.core.display.HTML object>",
            "text/html": "\n    <div>\n      \n      <progress value='3592' max='3592' style='width:300px; height:20px; vertical-align: middle;'></progress>\n      [3592/3592 21:35, Epoch 2/2]\n    </div>\n    <table border=\"1\" class=\"dataframe\">\n  <thead>\n <tr style=\"text-align: left;\">\n      <th>Epoch</th>\n      <th>Training Loss</th>\n      <th>Validation Loss</th>\n      <th>Accuracy</th>\n      <th>Precision</th>\n      <th>Recall</th>\n      <th>F1</th>\n    </tr>\n  </thead>\n  <tbody>\n    <tr>\n      <td>1</td>\n      <td>0.004300</td>\n      <td>0.002161</td>\n      <td>0.999722</td>\n      <td>0.999722</td>\n      <td>0.999722</td>\n      <td>0.999722</td>\n    </tr>\n    <tr>\n      <td>2</td>\n      <td>0.000600</td>\n      <td>0.002433</td>\n      <td>0.999722</td>\n      <td>0.999722</td>\n      <td>0.999722</td>\n      <td>0.999722</td>\n    </tr>\n  </tbody>\n</table><p>"
          },
          "metadata": {}
        },
        {
          "name": "stderr",
          "text": "/usr/local/lib/python3.11/dist-packages/torch/nn/parallel/_functions.py:70: UserWarning: Was asked to gather along dimension 0, but all input tensors were scalars; will instead unsqueeze and return a vector.\n  warnings.warn(\n/usr/local/lib/python3.11/dist-packages/torch/nn/parallel/_functions.py:70: UserWarning: Was asked to gather along dimension 0, but all input tensors were scalars; will instead unsqueeze and return a vector.\n  warnings.warn(\n",
          "output_type": "stream"
        },
        {
          "output_type": "display_data",
          "data": {
            "text/plain": "<IPython.core.display.HTML object>",
            "text/html": "\n    <div>\n      \n      <progress value='225' max='225' style='width:300px; height:20px; vertical-align: middle;'></progress>\n      [225/225 00:39]\n    </div>\n    "
          },
          "metadata": {}
        },
        {
          "name": "stdout",
          "text": "Fold 5 metrics: {'eval_loss': 0.0024330513551831245, 'eval_accuracy': 0.9997215648057914, 'eval_precision': 0.9997215648057914, 'eval_recall': 0.9997215648057914, 'eval_f1': 0.9997215648057914, 'eval_runtime': 39.6023, 'eval_samples_per_second': 181.379, 'eval_steps_per_second': 5.681, 'epoch': 2.0}\n",
          "output_type": "stream"
        }
      ],
      "execution_count": null
    },
    {
      "cell_type": "code",
      "source": [
        "df_folds = pd.DataFrame(fold_metrics)\n",
        "\n",
        "print(\"\\n=== CV Results by Fold ===\")\n",
        "print(df_folds)\n",
        "\n",
        "print(\"\\n=== Final Mean ± Std ===\")\n",
        "print(df_folds.mean(numeric_only=True))\n",
        "print(df_folds.std(numeric_only=True))\n"
      ],
      "metadata": {
        "trusted": true,
        "execution": {
          "iopub.status.busy": "2025-09-18T17:03:50.470080Z",
          "iopub.execute_input": "2025-09-18T17:03:50.470789Z",
          "iopub.status.idle": "2025-09-18T17:03:50.478977Z",
          "shell.execute_reply.started": "2025-09-18T17:03:50.470763Z",
          "shell.execute_reply": "2025-09-18T17:03:50.478274Z"
        },
        "id": "G-B6hCYTyi_h",
        "outputId": "5ddcc7bd-2c9e-4b2d-b36e-d2ed20c693a8"
      },
      "outputs": [
        {
          "name": "stdout",
          "text": "\n=== CV Results by Fold ===\n   fold  accuracy  precision    recall        f1\n0     1  0.999582   0.999582  0.999582  0.999582\n1     2  0.999861   0.999861  0.999861  0.999861\n2     3  0.999861   0.999861  0.999861  0.999861\n3     4  0.999722   0.999722  0.999722  0.999722\n4     5  0.999722   0.999722  0.999722  0.999722\n\n=== Final Mean ± Std ===\nfold         3.000000\naccuracy     0.999749\nprecision    0.999749\nrecall       0.999749\nf1           0.999749\ndtype: float64\nfold         1.581139\naccuracy     0.000116\nprecision    0.000116\nrecall       0.000116\nf1           0.000116\ndtype: float64\n",
          "output_type": "stream"
        }
      ],
      "execution_count": null
    },
    {
      "cell_type": "code",
      "source": [
        "import matplotlib.pyplot as plt\n",
        "\n",
        "# Extract fold numbers and metrics\n",
        "folds = df_folds['fold']\n",
        "accuracy = df_folds['accuracy']\n",
        "f1 = df_folds['f1']\n",
        "\n",
        "# Plot\n",
        "plt.figure(figsize=(8,5))\n",
        "bar_width = 0.35\n",
        "x = np.arange(len(folds))\n",
        "\n",
        "# Bars for Accuracy & F1\n",
        "plt.bar(x - bar_width/2, accuracy, width=bar_width, label=\"Accuracy\")\n",
        "plt.bar(x + bar_width/2, f1, width=bar_width, label=\"F1 Score\")\n",
        "\n",
        "# Add average lines\n",
        "plt.axhline(y=accuracy.mean(), color=\"blue\", linestyle=\"--\", label=f\"Avg Acc = {accuracy.mean():.4f}\")\n",
        "plt.axhline(y=f1.mean(), color=\"orange\", linestyle=\"--\", label=f\"Avg F1 = {f1.mean():.4f}\")\n",
        "\n",
        "# Labels & title\n",
        "plt.xticks(x, [f\"Fold {i}\" for i in folds])\n",
        "plt.ylabel(\"Score\")\n",
        "plt.ylim(0.95, 1.01)  # zoom in for high scores\n",
        "plt.title(\"Cross-Validation Results: Accuracy & F1 per Fold\")\n",
        "plt.legend()\n",
        "plt.grid(axis=\"y\", linestyle=\"--\", alpha=0.6)\n",
        "\n",
        "plt.show()"
      ],
      "metadata": {
        "trusted": true,
        "execution": {
          "iopub.status.busy": "2025-09-18T17:03:59.544989Z",
          "iopub.execute_input": "2025-09-18T17:03:59.545246Z",
          "iopub.status.idle": "2025-09-18T17:03:59.728435Z",
          "shell.execute_reply.started": "2025-09-18T17:03:59.545228Z",
          "shell.execute_reply": "2025-09-18T17:03:59.727808Z"
        },
        "id": "-0kJGWJayi_i",
        "outputId": "4919a843-2bc1-4d3d-81b5-b5141c8f14b9"
      },
      "outputs": [
        {
          "output_type": "display_data",
          "data": {
            "text/plain": "<Figure size 800x500 with 1 Axes>",
            "image/png": "[encoded data removed]"
          },
          "metadata": {}
        }
      ],
      "execution_count": null
    },
    {
      "cell_type": "markdown",
      "source": [
        "# ***Class Distribution (Full Dataset)***"
      ],
      "metadata": {
        "id": "DrUvEIRdyi_i"
      }
    },
    {
      "cell_type": "code",
      "source": [
        "# Count samples per class in full dataset\n",
        "class_counts = train_df['label'].value_counts().sort_index()\n",
        "\n",
        "# Create a summary table\n",
        "distribution = pd.DataFrame({\n",
        "    \"Class\": [\"Fake (0)\", \"Real (1)\"],\n",
        "    \"Count\": [class_counts[0], class_counts[1]],\n",
        "    \"Percentage\": [class_counts[0]/len(train_df)*100, class_counts[1]/len(train_df)*100]\n",
        "})\n",
        "\n",
        "print(\"\\n=== Class Distribution (Full Dataset) ===\")\n",
        "print(distribution)\n",
        "\n",
        "# If you also want train/val/test split distributions:\n",
        "from sklearn.model_selection import train_test_split\n",
        "\n",
        "# Using the deduplicated train_df for splitting\n",
        "train_df_split, test_df = train_test_split(train_df, test_size=0.2, stratify=train_df['label'], random_state=42)\n",
        "train_df_split, val_df = train_test_split(train_df_split, test_size=0.1, stratify=train_df_split['label'], random_state=42)\n",
        "\n",
        "def get_distribution(name, subset):\n",
        "    counts = subset['label'].value_counts().sort_index()\n",
        "    return {\n",
        "        \"Split\": name,\n",
        "        \"Fake (0)\": counts[0] if 0 in counts else 0,\n",
        "        \"Real (1)\": counts[1] if 1 in counts else 0,\n",
        "        \"Total\": len(subset)\n",
        "    }\n",
        "\n",
        "split_distribution = pd.DataFrame([\n",
        "    get_distribution(\"Train\", train_df_split),\n",
        "    get_distribution(\"Validation\", val_df),\n",
        "    get_distribution(\"Test\", test_df)\n",
        "])\n",
        "\n",
        "print(\"\\n=== Split-wise Distribution ===\")\n",
        "print(split_distribution)"
      ],
      "metadata": {
        "trusted": true,
        "execution": {
          "iopub.status.busy": "2025-09-18T14:42:11.158843Z",
          "iopub.execute_input": "2025-09-18T14:42:11.159523Z",
          "iopub.status.idle": "2025-09-18T14:42:11.246996Z",
          "shell.execute_reply.started": "2025-09-18T14:42:11.159498Z",
          "shell.execute_reply": "2025-09-18T14:42:11.246363Z"
        },
        "id": "EL-Rp1ELyi_i",
        "outputId": "749c11c5-c03e-4466-caef-8e5c8b9605d6"
      },
      "outputs": [
        {
          "name": "stdout",
          "text": "\n=== Class Distribution (Full Dataset) ===\n      Class  Count  Percentage\n0  Fake (0)  18812   52.374854\n1  Real (1)  17106   47.625146\n\n=== Split-wise Distribution ===\n        Split  Fake (0)  Real (1)  Total\n0       Train     13544     12316  25860\n1  Validation      1505      1369   2874\n2        Test      3763      3421   7184\n",
          "output_type": "stream"
        }
      ],
      "execution_count": null
    },
    {
      "cell_type": "code",
      "source": [
        "import matplotlib.pyplot as plt\n",
        "import seaborn as sns\n",
        "\n",
        "# --- Full dataset distribution ---\n",
        "class_counts = train_df['label'].value_counts().sort_index()\n",
        "\n",
        "plt.figure(figsize=(6,5))\n",
        "sns.barplot(x=[\"Fake (0)\", \"Real (1)\"], y=class_counts.values, palette=\"Blues\")\n",
        "plt.title(\"Class Distribution (Full Dataset)\")\n",
        "plt.ylabel(\"Count\")\n",
        "plt.xlabel(\"Class\")\n",
        "plt.grid(axis=\"y\", linestyle=\"--\", alpha=0.6)\n",
        "for i, v in enumerate(class_counts.values):\n",
        "    plt.text(i, v + 200, str(v), ha='center', fontweight='bold')\n",
        "plt.show()\n",
        "\n",
        "# --- Split-wise distribution ---\n",
        "splits = [\"Train\", \"Validation\", \"Test\"]\n",
        "split_counts = [\n",
        "    train_df_split['label'].value_counts().sort_index(),\n",
        "    val_df['label'].value_counts().sort_index(),\n",
        "    test_df['label'].value_counts().sort_index()\n",
        "]\n",
        "\n",
        "split_df = pd.DataFrame(split_counts, index=splits)\n",
        "split_df.plot(kind=\"bar\", stacked=False, figsize=(7,5), color=[\"skyblue\",\"orange\"])\n",
        "\n",
        "plt.title(\"Split-wise Class Distribution\")\n",
        "plt.ylabel(\"Count\")\n",
        "plt.xlabel(\"Dataset Split\")\n",
        "plt.xticks(rotation=0)\n",
        "plt.legend([\"Fake (0)\", \"Real (1)\"])\n",
        "plt.grid(axis=\"y\", linestyle=\"--\", alpha=0.6)\n",
        "plt.show()"
      ],
      "metadata": {
        "trusted": true,
        "execution": {
          "iopub.status.busy": "2025-09-18T14:42:17.411508Z",
          "iopub.execute_input": "2025-09-18T14:42:17.411822Z",
          "iopub.status.idle": "2025-09-18T14:42:18.006280Z",
          "shell.execute_reply.started": "2025-09-18T14:42:17.411800Z",
          "shell.execute_reply": "2025-09-18T14:42:18.005618Z"
        },
        "id": "bxU28Ooayi_i",
        "outputId": "570cc8bc-9ec4-4ec9-a11b-2dd6e8850396"
      },
      "outputs": [
        {
          "name": "stderr",
          "text": "/usr/local/lib/python3.11/dist-packages/seaborn/_oldcore.py:1765: FutureWarning: unique with argument that is not not a Series, Index, ExtensionArray, or np.ndarray is deprecated and will raise in a future version.\n  order = pd.unique(vector)\n",
          "output_type": "stream"
        },
        {
          "output_type": "display_data",
          "data": {
            "text/plain": "<Figure size 600x500 with 1 Axes>",
            "image/png": "[encoded data removed]"
          },
          "metadata": {}
        },
        {
          "output_type": "display_data",
          "data": {
            "text/plain": "<Figure size 700x500 with 1 Axes>",
            "image/png": "[encoded data removed]"
          },
          "metadata": {}
        }
      ],
      "execution_count": null
    },
    {
      "cell_type": "markdown",
      "source": [
        "# ***Prediction***"
      ],
      "metadata": {
        "id": "aCZMUw7-yi_i"
      }
    },
    {
      "cell_type": "code",
      "source": [
        "import glob\n",
        "import os\n",
        "import numpy as np\n",
        "import torch\n",
        "\n",
        "# Path to all your SEMrush/MOZ CSVs\n",
        "input_folder = \"/kaggle/input/backlinks-data-cleaned\"   # <-- change dataset name\n",
        "csv_files = glob.glob(os.path.join(input_folder, \"*.csv\"))\n",
        "\n",
        "print(f\"📂 Found {len(csv_files)} CSV files\")\n",
        "\n",
        "results_summary = []\n",
        "\n",
        "for file in csv_files:\n",
        "    # === 1. Load CSV ===\n",
        "    df = pd.read_csv(file)\n",
        "    print(f\"\\nProcessing file: {os.path.basename(file)} | Rows: {len(df)}\")\n",
        "\n",
        "    # === 2. Ensure \"text\" column ===\n",
        "    if \"text\" not in df.columns:\n",
        "        for col in [\"content\",\"body\",\"article\",\"headline\",\"title\"]:\n",
        "            if col in df.columns:\n",
        "                df = df.rename(columns={col: \"text\"})\n",
        "                print(f\"ℹ️ Renamed column '{col}' → 'text'\")\n",
        "                break\n",
        "\n",
        "    texts = df[\"text\"].astype(str).tolist()\n",
        "\n",
        "    # === 3. Create Dataset ===\n",
        "    class NewsDataset(torch.utils.data.Dataset):\n",
        "        def __init__(self, texts, tokenizer, max_length=256):\n",
        "            self.enc = tokenizer(\n",
        "                texts, truncation=True, padding=\"max_length\", max_length=max_length\n",
        "            )\n",
        "\n",
        "        def __len__(self):\n",
        "            return len(self.enc[\"input_ids\"])\n",
        "\n",
        "        def __getitem__(self, idx):\n",
        "            return {k: torch.tensor(v[idx]) for k, v in self.enc.items()}\n",
        "\n",
        "    pred_dataset = NewsDataset(texts, tokenizer)\n",
        "\n",
        "    # === 4. Run Predictions ===\n",
        "    predictions = trainer.predict(pred_dataset)\n",
        "    y_pred = np.argmax(predictions.predictions, axis=1)\n",
        "    y_probs = torch.nn.functional.softmax(torch.tensor(predictions.predictions), dim=1)[:,1].numpy()\n",
        "\n",
        "    # === 5. Attach Predictions ===\n",
        "    df[\"Prediction\"] = y_pred\n",
        "    df[\"Prediction\"] = df[\"Prediction\"].map({0: \"Fake\", 1: \"Real\"})\n",
        "    df[\"Confidence\"] = y_probs\n",
        "\n",
        "    # === 6. Save File to /kaggle/working ===\n",
        "    output_file = f\"/kaggle/working/{os.path.basename(file).replace('.csv','_pred_2.csv')}\"\n",
        "    df.to_csv(output_file, index=False)\n",
        "    print(f\"✅ Saved predictions to {output_file}\")\n",
        "\n",
        "    # === 7. Collect Summary ===\n",
        "    results_summary.append({\n",
        "        \"File\": os.path.basename(file),\n",
        "        \"Total Rows\": len(df),\n",
        "        \"Real Count\": (df[\"Prediction\"]==\"Real\").sum(),\n",
        "        \"Fake Count\": (df[\"Prediction\"]==\"Fake\").sum(),\n",
        "        \"Avg Confidence\": df[\"Confidence\"].mean()\n",
        "    })\n",
        "\n",
        "# === 8. Save Summary Report ===\n",
        "summary_df = pd.DataFrame(results_summary)\n",
        "summary_path = \"/kaggle/working/predictions_summary.csv\"\n",
        "summary_df.to_csv(summary_path, index=False)\n",
        "\n",
        "print(\"\\n📊 Summary of all files saved to:\", summary_path)\n",
        "summary_df\n"
      ],
      "metadata": {
        "trusted": true,
        "execution": {
          "iopub.status.busy": "2025-09-18T15:05:34.419536Z",
          "iopub.execute_input": "2025-09-18T15:05:34.420384Z",
          "iopub.status.idle": "2025-09-18T15:06:22.766699Z",
          "shell.execute_reply.started": "2025-09-18T15:05:34.420343Z",
          "shell.execute_reply": "2025-09-18T15:06:22.765972Z"
        },
        "id": "FrJptnjsyi_i",
        "outputId": "5a921f63-a3bb-4e15-9fec-eb634d2fcd0e"
      },
      "outputs": [
        {
          "name": "stdout",
          "text": "📂 Found 5 CSV files\n\nProcessing file: sdg_news_01_cleaned.csv | Rows: 32\n✅ Saved predictions to /kaggle/working/sdg_news_01_cleaned_pred_2.csv\n\nProcessing file: rt_news_cleaned.csv | Rows: 1540\n✅ Saved predictions to /kaggle/working/rt_news_cleaned_pred_2.csv\n\nProcessing file: gt_news_cleaned_04.csv | Rows: 1256\n✅ Saved predictions to /kaggle/working/gt_news_cleaned_04_pred_2.csv\n\nProcessing file: euro_news_clean.csv | Rows: 3271\n✅ Saved predictions to /kaggle/working/euro_news_clean_pred_2.csv\n\nProcessing file: inian_news_cleaned.csv | Rows: 501\n✅ Saved predictions to /kaggle/working/inian_news_cleaned_pred_2.csv\n\n📊 Summary of all files saved to: /kaggle/working/predictions_summary.csv\n",
          "output_type": "stream"
        },
        {
          "execution_count": 77,
          "output_type": "execute_result",
          "data": {
            "text/plain": "                      File  Total Rows  Real Count  Fake Count  Avg Confidence\n0  sdg_news_01_cleaned.csv          32          12          20        0.346866\n1      rt_news_cleaned.csv        1540         961         579        0.613959\n2   gt_news_cleaned_04.csv        1256         892         364        0.697721\n3      euro_news_clean.csv        3271        1574        1697        0.470379\n4   inian_news_cleaned.csv         501         216         285        0.395977",
            "text/html": "<div>\n<style scoped>\n    .dataframe tbody tr th:only-of-type {\n        vertical-align: middle;\n    }\n\n    .dataframe tbody tr th {\n        vertical-align: top;\n    }\n\n    .dataframe thead th {\n        text-align: right;\n    }\n</style>\n<table border=\"1\" class=\"dataframe\">\n  <thead>\n    <tr style=\"text-align: right;\">\n      <th></th>\n      <th>File</th>\n      <th>Total Rows</th>\n      <th>Real Count</th>\n      <th>Fake Count</th>\n      <th>Avg Confidence</th>\n    </tr>\n  </thead>\n  <tbody>\n    <tr>\n      <th>0</th>\n      <td>sdg_news_01_cleaned.csv</td>\n      <td>32</td>\n      <td>12</td>\n      <td>20</td>\n      <td>0.346866</td>\n    </tr>\n    <tr>\n      <th>1</th>\n      <td>rt_news_cleaned.csv</td>\n      <td>1540</td>\n      <td>961</td>\n      <td>579</td>\n      <td>0.613959</td>\n    </tr>\n    <tr>\n      <th>2</th>\n      <td>gt_news_cleaned_04.csv</td>\n      <td>1256</td>\n      <td>892</td>\n      <td>364</td>\n      <td>0.697721</td>\n    </tr>\n    <tr>\n      <th>3</th>\n      <td>euro_news_clean.csv</td>\n      <td>3271</td>\n      <td>1574</td>\n      <td>1697</td>\n      <td>0.470379</td>\n    </tr>\n    <tr>\n      <th>4</th>\n      <td>inian_news_cleaned.csv</td>\n      <td>501</td>\n      <td>216</td>\n      <td>285</td>\n      <td>0.395977</td>\n    </tr>\n  </tbody>\n</table>\n</div>"
          },
          "metadata": {}
        }
      ],
      "execution_count": null
    },
    {
      "cell_type": "code",
      "source": [
        "import matplotlib.pyplot as plt\n",
        "import seaborn as sns\n",
        "\n",
        "# Load the summary from previous step\n",
        "summary_df = pd.read_csv(\"/kaggle/working/predictions_summary.csv\")\n",
        "\n",
        "# 1️⃣ Bar chart: Fake vs Real per file\n",
        "plt.figure(figsize=(10,6))\n",
        "sns.barplot(data=summary_df.melt(id_vars=\"File\", value_vars=[\"Real Count\",\"Fake Count\"]),\n",
        "            x=\"File\", y=\"value\", hue=\"variable\")\n",
        "plt.title(\"Fake vs Real Predictions per File\")\n",
        "plt.ylabel(\"Article Count\")\n",
        "plt.xticks(rotation=45, ha=\"right\")\n",
        "plt.legend(title=\"Prediction\")\n",
        "plt.tight_layout()\n",
        "plt.show()\n",
        "\n",
        "# 2️⃣ Bar chart: Average Confidence per file\n",
        "plt.figure(figsize=(10,6))\n",
        "sns.barplot(data=summary_df, x=\"File\", y=\"Avg Confidence\", palette=\"viridis\")\n",
        "plt.title(\"Average Confidence per File\")\n",
        "plt.ylabel(\"Confidence (0 = Fake, 1 = Real)\")\n",
        "plt.xticks(rotation=45, ha=\"right\")\n",
        "plt.tight_layout()\n",
        "plt.show()\n",
        "\n",
        "# 3️⃣ Pie chart: Overall Fake vs Real across all files\n",
        "total_fake = summary_df[\"Fake Count\"].sum()\n",
        "total_real = summary_df[\"Real Count\"].sum()\n",
        "\n",
        "plt.figure(figsize=(6,6))\n",
        "plt.pie([total_real, total_fake],\n",
        "        labels=[\"Real\",\"Fake\"],\n",
        "        autopct=\"%1.1f%%\",\n",
        "        colors=[\"green\",\"red\"],\n",
        "        startangle=140)\n",
        "plt.title(\"Overall Prediction Distribution Across All Files\")\n",
        "plt.show()"
      ],
      "metadata": {
        "trusted": true,
        "execution": {
          "iopub.status.busy": "2025-09-18T15:01:54.143981Z",
          "iopub.execute_input": "2025-09-18T15:01:54.144241Z",
          "iopub.status.idle": "2025-09-18T15:01:54.625558Z",
          "shell.execute_reply.started": "2025-09-18T15:01:54.144222Z",
          "shell.execute_reply": "2025-09-18T15:01:54.624962Z"
        },
        "id": "2YLFfbQIyi_i",
        "outputId": "9530bf0e-a199-41f0-cf9c-145547db5f5d"
      },
      "outputs": [
        {
          "output_type": "display_data",
          "data": {
            "text/plain": "<Figure size 1000x600 with 1 Axes>",
            "image/png": "[encoded data removed]"
          },
          "metadata": {}
        },
        {
          "output_type": "display_data",
          "data": {
            "text/plain": "<Figure size 1000x600 with 1 Axes>",
            "image/png": "[encoded data removed]"
          },
          "metadata": {}
        },
        {
          "output_type": "display_data",
          "data": {
            "text/plain": "<Figure size 600x600 with 1 Axes>",
            "image/png": "[encoded data removed]"
          },
          "metadata": {}
        }
      ],
      "execution_count": null
    }
  ]
}
